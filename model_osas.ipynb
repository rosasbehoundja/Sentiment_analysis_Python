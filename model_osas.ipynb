{
 "cells": [
  {
   "cell_type": "code",
   "execution_count": null,
   "metadata": {
    "id": "SpvFmszjAQUd"
   },
   "outputs": [],
   "source": [
    "import numpy as np\n",
    "import pandas as pd\n",
    "import matplotlib.pyplot as plt\n",
    "import seaborn as sns"
   ]
  },
  {
   "cell_type": "code",
   "execution_count": 2,
   "metadata": {
    "id": "G2rL7eNqA-wE"
   },
   "outputs": [],
   "source": [
    "train = pd.read_csv(\"Datasets/training.csv\")\n",
    "test = pd.read_csv('Datasets/test.csv')\n",
    "validation = pd.read_csv('Datasets/validation.csv')"
   ]
  },
  {
   "cell_type": "markdown",
   "metadata": {
    "id": "iGqFWcvVZl4E"
   },
   "source": [
    "Labels :\n",
    "\n",
    "  * 0 = sadness\n",
    "  * 1 = joy\n",
    "  * 2 = love\n",
    "  * 3 = anger\n",
    "  * 4 = fear\n",
    "  * 5 = surprise"
   ]
  },
  {
   "cell_type": "code",
   "execution_count": 3,
   "metadata": {
    "colab": {
     "base_uri": "https://localhost:8080/",
     "height": 226
    },
    "id": "2gpzz_yAZbCK",
    "outputId": "27a4e0b2-c616-4254-8fc8-bc00fc485918"
   },
   "outputs": [
    {
     "data": {
      "text/html": [
       "<div>\n",
       "<style scoped>\n",
       "    .dataframe tbody tr th:only-of-type {\n",
       "        vertical-align: middle;\n",
       "    }\n",
       "\n",
       "    .dataframe tbody tr th {\n",
       "        vertical-align: top;\n",
       "    }\n",
       "\n",
       "    .dataframe thead th {\n",
       "        text-align: right;\n",
       "    }\n",
       "</style>\n",
       "<table border=\"1\" class=\"dataframe\">\n",
       "  <thead>\n",
       "    <tr style=\"text-align: right;\">\n",
       "      <th></th>\n",
       "      <th>text</th>\n",
       "      <th>label</th>\n",
       "    </tr>\n",
       "  </thead>\n",
       "  <tbody>\n",
       "    <tr>\n",
       "      <th>0</th>\n",
       "      <td>i didnt feel humiliated</td>\n",
       "      <td>0</td>\n",
       "    </tr>\n",
       "    <tr>\n",
       "      <th>1</th>\n",
       "      <td>i can go from feeling so hopeless to so damned...</td>\n",
       "      <td>0</td>\n",
       "    </tr>\n",
       "    <tr>\n",
       "      <th>2</th>\n",
       "      <td>im grabbing a minute to post i feel greedy wrong</td>\n",
       "      <td>3</td>\n",
       "    </tr>\n",
       "    <tr>\n",
       "      <th>3</th>\n",
       "      <td>i am ever feeling nostalgic about the fireplac...</td>\n",
       "      <td>2</td>\n",
       "    </tr>\n",
       "    <tr>\n",
       "      <th>4</th>\n",
       "      <td>i am feeling grouchy</td>\n",
       "      <td>3</td>\n",
       "    </tr>\n",
       "  </tbody>\n",
       "</table>\n",
       "</div>"
      ],
      "text/plain": [
       "                                                text  label\n",
       "0                            i didnt feel humiliated      0\n",
       "1  i can go from feeling so hopeless to so damned...      0\n",
       "2   im grabbing a minute to post i feel greedy wrong      3\n",
       "3  i am ever feeling nostalgic about the fireplac...      2\n",
       "4                               i am feeling grouchy      3"
      ]
     },
     "execution_count": 3,
     "metadata": {},
     "output_type": "execute_result"
    }
   ],
   "source": [
    "train.head()"
   ]
  },
  {
   "cell_type": "code",
   "execution_count": 4,
   "metadata": {
    "colab": {
     "base_uri": "https://localhost:8080/"
    },
    "id": "spNo9WVcZ4TL",
    "outputId": "5ac99889-f432-4679-eec5-53a5c8db5647"
   },
   "outputs": [
    {
     "name": "stdout",
     "output_type": "stream",
     "text": [
      "<class 'pandas.core.frame.DataFrame'>\n",
      "RangeIndex: 16000 entries, 0 to 15999\n",
      "Data columns (total 2 columns):\n",
      " #   Column  Non-Null Count  Dtype \n",
      "---  ------  --------------  ----- \n",
      " 0   text    16000 non-null  object\n",
      " 1   label   16000 non-null  int64 \n",
      "dtypes: int64(1), object(1)\n",
      "memory usage: 250.1+ KB\n"
     ]
    }
   ],
   "source": [
    "train.info()"
   ]
  },
  {
   "cell_type": "code",
   "execution_count": 5,
   "metadata": {
    "colab": {
     "base_uri": "https://localhost:8080/"
    },
    "id": "7F34X9gvaHNF",
    "outputId": "23a2df29-677a-450f-9da8-90a2db179ec3"
   },
   "outputs": [
    {
     "name": "stdout",
     "output_type": "stream",
     "text": [
      "<class 'pandas.core.frame.DataFrame'>\n",
      "RangeIndex: 2000 entries, 0 to 1999\n",
      "Data columns (total 2 columns):\n",
      " #   Column  Non-Null Count  Dtype \n",
      "---  ------  --------------  ----- \n",
      " 0   text    2000 non-null   object\n",
      " 1   label   2000 non-null   int64 \n",
      "dtypes: int64(1), object(1)\n",
      "memory usage: 31.4+ KB\n"
     ]
    }
   ],
   "source": [
    "validation.info()"
   ]
  },
  {
   "cell_type": "code",
   "execution_count": 6,
   "metadata": {
    "colab": {
     "base_uri": "https://localhost:8080/"
    },
    "id": "SGF4LqLxaM9l",
    "outputId": "fb88477f-eb6d-4dcb-c24f-a8a8348fb437"
   },
   "outputs": [
    {
     "name": "stdout",
     "output_type": "stream",
     "text": [
      "<class 'pandas.core.frame.DataFrame'>\n",
      "RangeIndex: 2000 entries, 0 to 1999\n",
      "Data columns (total 2 columns):\n",
      " #   Column  Non-Null Count  Dtype \n",
      "---  ------  --------------  ----- \n",
      " 0   text    2000 non-null   object\n",
      " 1   label   2000 non-null   int64 \n",
      "dtypes: int64(1), object(1)\n",
      "memory usage: 31.4+ KB\n"
     ]
    }
   ],
   "source": [
    "test.info()"
   ]
  },
  {
   "cell_type": "code",
   "execution_count": 7,
   "metadata": {},
   "outputs": [],
   "source": [
    "def replace_label(df):\n",
    "    df['label'] = df['label'].replace({0: 0, 1: 1, 2: 1, 3: 3, 4: 3 , 5: 5}) "
   ]
  },
  {
   "cell_type": "markdown",
   "metadata": {},
   "source": [
    "0 = sadness\n",
    "1 = joy or love\n",
    "3 = confus\n",
    "4 = surpris"
   ]
  },
  {
   "cell_type": "code",
   "execution_count": 8,
   "metadata": {},
   "outputs": [],
   "source": [
    "replace_label(train)\n",
    "replace_label(test)\n",
    "replace_label(validation)"
   ]
  },
  {
   "cell_type": "markdown",
   "metadata": {
    "id": "lsOsNHBTa-tC"
   },
   "source": [
    "## Visualisation"
   ]
  },
  {
   "cell_type": "code",
   "execution_count": 9,
   "metadata": {
    "colab": {
     "base_uri": "https://localhost:8080/",
     "height": 487
    },
    "id": "wyN7RDVraZWD",
    "outputId": "6dbea7b5-d18f-4ac7-c228-04c7ef4259f0"
   },
   "outputs": [
    {
     "data": {
      "text/plain": [
       "<Axes: xlabel='label', ylabel='count'>"
      ]
     },
     "execution_count": 9,
     "metadata": {},
     "output_type": "execute_result"
    },
    {
     "data": {
      "image/png": "[encoded data removed]",
      "text/plain": [
       "<Figure size 640x480 with 1 Axes>"
      ]
     },
     "metadata": {},
     "output_type": "display_data"
    }
   ],
   "source": [
    "sns.countplot(x='label',data=train)"
   ]
  },
  {
   "cell_type": "code",
   "execution_count": 10,
   "metadata": {
    "colab": {
     "base_uri": "https://localhost:8080/",
     "height": 487
    },
    "id": "UDqsGendav53",
    "outputId": "772eb8bc-d778-4069-880b-290461a13652"
   },
   "outputs": [
    {
     "data": {
      "text/plain": [
       "<Axes: xlabel='label', ylabel='count'>"
      ]
     },
     "execution_count": 10,
     "metadata": {},
     "output_type": "execute_result"
    },
    {
     "data": {
      "image/png": "[encoded data removed]",
      "text/plain": [
       "<Figure size 640x480 with 1 Axes>"
      ]
     },
     "metadata": {},
     "output_type": "display_data"
    }
   ],
   "source": [
    "sns.countplot(x='label',data=test)"
   ]
  },
  {
   "cell_type": "code",
   "execution_count": 11,
   "metadata": {
    "colab": {
     "base_uri": "https://localhost:8080/",
     "height": 487
    },
    "id": "EojaryCHa3Mx",
    "outputId": "551b2026-3821-4bc6-f38d-d2b53888464f"
   },
   "outputs": [
    {
     "data": {
      "text/plain": [
       "<Axes: xlabel='label', ylabel='count'>"
      ]
     },
     "execution_count": 11,
     "metadata": {},
     "output_type": "execute_result"
    },
    {
     "data": {
      "image/png": "[encoded data removed]",
      "text/plain": [
       "<Figure size 640x480 with 1 Axes>"
      ]
     },
     "metadata": {},
     "output_type": "display_data"
    }
   ],
   "source": [
    "sns.countplot(x='label',data=validation)"
   ]
  },
  {
   "cell_type": "markdown",
   "metadata": {
    "id": "PA7rGdD8bMq7"
   },
   "source": [
    "On peut conclure que la répartitions des données par catégories est semblable pour tous les datasets sachant qu'il y a une prédominance des données de catégories 0 et 1."
   ]
  },
  {
   "cell_type": "markdown",
   "metadata": {
    "id": "41I8dzDpbyKe"
   },
   "source": [
    "## Data Preprocessing"
   ]
  },
  {
   "cell_type": "code",
   "execution_count": 12,
   "metadata": {
    "colab": {
     "base_uri": "https://localhost:8080/"
    },
    "id": "43Ub-ZHAa5Zl",
    "outputId": "f080b91c-c095-4cc2-9ef9-8b520b2accb4"
   },
   "outputs": [
    {
     "name": "stderr",
     "output_type": "stream",
     "text": [
      "[nltk_data] Downloading package stopwords to\n",
      "[nltk_data]     C:\\Users\\perri\\AppData\\Roaming\\nltk_data...\n",
      "[nltk_data]   Package stopwords is already up-to-date!\n",
      "[nltk_data] Downloading package punkt to\n",
      "[nltk_data]     C:\\Users\\perri\\AppData\\Roaming\\nltk_data...\n",
      "[nltk_data]   Package punkt is already up-to-date!\n"
     ]
    },
    {
     "data": {
      "text/plain": [
       "True"
      ]
     },
     "execution_count": 12,
     "metadata": {},
     "output_type": "execute_result"
    }
   ],
   "source": [
    "import re\n",
    "import nltk\n",
    "nltk.download('stopwords')\n",
    "from nltk.corpus import stopwords\n",
    "from nltk.tokenize import word_tokenize\n",
    "from nltk.stem import WordNetLemmatizer\n",
    "# \n",
    "nltk.download('punkt')"
   ]
  },
  {
   "cell_type": "code",
   "execution_count": 13,
   "metadata": {},
   "outputs": [
    {
     "name": "stderr",
     "output_type": "stream",
     "text": [
      "[nltk_data] Downloading package wordnet to\n",
      "[nltk_data]     C:\\Users\\perri\\AppData\\Roaming\\nltk_data...\n",
      "[nltk_data]   Package wordnet is already up-to-date!\n"
     ]
    },
    {
     "data": {
      "text/plain": [
       "True"
      ]
     },
     "execution_count": 13,
     "metadata": {},
     "output_type": "execute_result"
    }
   ],
   "source": [
    "nltk.download('wordnet')"
   ]
  },
  {
   "cell_type": "code",
   "execution_count": 14,
   "metadata": {},
   "outputs": [
    {
     "name": "stderr",
     "output_type": "stream",
     "text": [
      "[nltk_data] Downloading package punkt_tab to\n",
      "[nltk_data]     C:\\Users\\perri\\AppData\\Roaming\\nltk_data...\n",
      "[nltk_data]   Package punkt_tab is already up-to-date!\n"
     ]
    },
    {
     "data": {
      "text/plain": [
       "True"
      ]
     },
     "execution_count": 14,
     "metadata": {},
     "output_type": "execute_result"
    }
   ],
   "source": [
    "nltk.download('punkt_tab')"
   ]
  },
  {
   "cell_type": "code",
   "execution_count": 15,
   "metadata": {
    "id": "qsppDMJvghRH"
   },
   "outputs": [],
   "source": [
    "def preprocess_text(text):\n",
    "    tokens = word_tokenize(text.lower())\n",
    "    tokens = [token for token in tokens if token not in ['feel', 'feeling']]\n",
    "    filtered_tokens = [token for token in tokens if token not in stopwords.words('english')]\n",
    "    lemmatizer = WordNetLemmatizer()\n",
    "    lemmatized_tokens = [str(lemmatizer.lemmatize(token)) for token in filtered_tokens]\n",
    "    return lemmatized_tokens"
   ]
  },
  {
   "cell_type": "code",
   "execution_count": 16,
   "metadata": {},
   "outputs": [],
   "source": [
    "train['text'] = train['text'].apply(preprocess_text)"
   ]
  },
  {
   "cell_type": "code",
   "execution_count": 17,
   "metadata": {
    "id": "61pmXFV7hpte"
   },
   "outputs": [],
   "source": [
    "test['text'] = test['text'].apply(preprocess_text)\n",
    "validation['text'] = validation['text'].apply(preprocess_text)"
   ]
  },
  {
   "cell_type": "code",
   "execution_count": 18,
   "metadata": {},
   "outputs": [
    {
     "name": "stdout",
     "output_type": "stream",
     "text": [
      "['didnt', 'humiliated']\n"
     ]
    }
   ],
   "source": [
    "\n",
    "print(train.text.iloc[0])"
   ]
  },
  {
   "cell_type": "code",
   "execution_count": 19,
   "metadata": {
    "colab": {
     "base_uri": "https://localhost:8080/",
     "height": 226
    },
    "id": "fKBs2FEQivPN",
    "outputId": "0704057f-dafb-4489-a5e4-961669a13091"
   },
   "outputs": [
    {
     "data": {
      "text/html": [
       "<div>\n",
       "<style scoped>\n",
       "    .dataframe tbody tr th:only-of-type {\n",
       "        vertical-align: middle;\n",
       "    }\n",
       "\n",
       "    .dataframe tbody tr th {\n",
       "        vertical-align: top;\n",
       "    }\n",
       "\n",
       "    .dataframe thead th {\n",
       "        text-align: right;\n",
       "    }\n",
       "</style>\n",
       "<table border=\"1\" class=\"dataframe\">\n",
       "  <thead>\n",
       "    <tr style=\"text-align: right;\">\n",
       "      <th></th>\n",
       "      <th>text</th>\n",
       "      <th>label</th>\n",
       "    </tr>\n",
       "  </thead>\n",
       "  <tbody>\n",
       "    <tr>\n",
       "      <th>0</th>\n",
       "      <td>[didnt, humiliated]</td>\n",
       "      <td>0</td>\n",
       "    </tr>\n",
       "    <tr>\n",
       "      <th>1</th>\n",
       "      <td>[go, hopeless, damned, hopeful, around, someon...</td>\n",
       "      <td>0</td>\n",
       "    </tr>\n",
       "    <tr>\n",
       "      <th>2</th>\n",
       "      <td>[im, grabbing, minute, post, greedy, wrong]</td>\n",
       "      <td>3</td>\n",
       "    </tr>\n",
       "    <tr>\n",
       "      <th>3</th>\n",
       "      <td>[ever, nostalgic, fireplace, know, still, prop...</td>\n",
       "      <td>1</td>\n",
       "    </tr>\n",
       "    <tr>\n",
       "      <th>4</th>\n",
       "      <td>[grouchy]</td>\n",
       "      <td>3</td>\n",
       "    </tr>\n",
       "  </tbody>\n",
       "</table>\n",
       "</div>"
      ],
      "text/plain": [
       "                                                text  label\n",
       "0                                [didnt, humiliated]      0\n",
       "1  [go, hopeless, damned, hopeful, around, someon...      0\n",
       "2        [im, grabbing, minute, post, greedy, wrong]      3\n",
       "3  [ever, nostalgic, fireplace, know, still, prop...      1\n",
       "4                                          [grouchy]      3"
      ]
     },
     "execution_count": 19,
     "metadata": {},
     "output_type": "execute_result"
    }
   ],
   "source": [
    "train.head()"
   ]
  },
  {
   "cell_type": "code",
   "execution_count": 1,
   "metadata": {
    "colab": {
     "base_uri": "https://localhost:8080/",
     "height": 226
    },
    "id": "t9mVyRA5i1Sn",
    "outputId": "50bc58e5-1084-4e4b-c131-9b8dc5f2ace4"
   },
   "outputs": [
    {
     "ename": "NameError",
     "evalue": "name 'test' is not defined",
     "output_type": "error",
     "traceback": [
      "\u001b[1;31m---------------------------------------------------------------------------\u001b[0m",
      "\u001b[1;31mNameError\u001b[0m                                 Traceback (most recent call last)",
      "\u001b[1;32m<ipython-input-1-ca7e793253ef>\u001b[0m in \u001b[0;36m<module>\u001b[1;34m\u001b[0m\n\u001b[1;32m----> 1\u001b[1;33m \u001b[0mtest\u001b[0m\u001b[1;33m.\u001b[0m\u001b[0mhead\u001b[0m\u001b[1;33m(\u001b[0m\u001b[1;33m)\u001b[0m\u001b[1;33m\u001b[0m\u001b[1;33m\u001b[0m\u001b[0m\n\u001b[0m",
      "\u001b[1;31mNameError\u001b[0m: name 'test' is not defined"
     ]
    }
   ],
   "source": [
    "test.head()"
   ]
  },
  {
   "cell_type": "code",
   "execution_count": 21,
   "metadata": {
    "colab": {
     "base_uri": "https://localhost:8080/",
     "height": 226
    },
    "id": "O7GN4g2wkpzU",
    "outputId": "5cbf5776-bd5c-4ebc-ccc2-0155e5f041d4"
   },
   "outputs": [
    {
     "data": {
      "text/html": [
       "<div>\n",
       "<style scoped>\n",
       "    .dataframe tbody tr th:only-of-type {\n",
       "        vertical-align: middle;\n",
       "    }\n",
       "\n",
       "    .dataframe tbody tr th {\n",
       "        vertical-align: top;\n",
       "    }\n",
       "\n",
       "    .dataframe thead th {\n",
       "        text-align: right;\n",
       "    }\n",
       "</style>\n",
       "<table border=\"1\" class=\"dataframe\">\n",
       "  <thead>\n",
       "    <tr style=\"text-align: right;\">\n",
       "      <th></th>\n",
       "      <th>text</th>\n",
       "      <th>label</th>\n",
       "    </tr>\n",
       "  </thead>\n",
       "  <tbody>\n",
       "    <tr>\n",
       "      <th>0</th>\n",
       "      <td>[im, quite, sad, sorry, ill, snap, soon]</td>\n",
       "      <td>0</td>\n",
       "    </tr>\n",
       "    <tr>\n",
       "      <th>1</th>\n",
       "      <td>[like, still, looking, blank, canvas, blank, p...</td>\n",
       "      <td>0</td>\n",
       "    </tr>\n",
       "    <tr>\n",
       "      <th>2</th>\n",
       "      <td>[like, faithful, servant]</td>\n",
       "      <td>1</td>\n",
       "    </tr>\n",
       "    <tr>\n",
       "      <th>3</th>\n",
       "      <td>[cranky, blue]</td>\n",
       "      <td>3</td>\n",
       "    </tr>\n",
       "    <tr>\n",
       "      <th>4</th>\n",
       "      <td>[treat, festive]</td>\n",
       "      <td>1</td>\n",
       "    </tr>\n",
       "  </tbody>\n",
       "</table>\n",
       "</div>"
      ],
      "text/plain": [
       "                                                text  label\n",
       "0           [im, quite, sad, sorry, ill, snap, soon]      0\n",
       "1  [like, still, looking, blank, canvas, blank, p...      0\n",
       "2                          [like, faithful, servant]      1\n",
       "3                                     [cranky, blue]      3\n",
       "4                                   [treat, festive]      1"
      ]
     },
     "execution_count": 21,
     "metadata": {},
     "output_type": "execute_result"
    }
   ],
   "source": [
    "validation.head()"
   ]
  },
  {
   "cell_type": "code",
   "execution_count": 22,
   "metadata": {
    "id": "K43H6gYYo_-h"
   },
   "outputs": [
    {
     "name": "stdout",
     "output_type": "stream",
     "text": [
      "[('side', 0.17676278948783875), ('long', 0.17415721714496613), ('sincere', 0.16998985409736633), ('touch', 0.16434913873672485), ('letting', 0.16252882778644562), ('guilty', 0.15901614725589752), ('mother', 0.1589120626449585), ('personally', 0.15210723876953125), ('chance', 0.1487078219652176), ('abused', 0.1457328498363495)]\n"
     ]
    }
   ],
   "source": [
    "from gensim.models import Word2Vec\n",
    "\n",
    "model = Word2Vec(sentences=train['text'], min_count=25, vector_size=600, window=8, workers=10, epochs=100)\n",
    "model.train(train['text'], total_examples=len(train['text']), epochs=100)\n",
    "print(model.wv.most_similar('god'))"
   ]
  },
  {
   "cell_type": "code",
   "execution_count": 23,
   "metadata": {},
   "outputs": [],
   "source": [
    "def vectorize_text(text, model):\n",
    "    word_vectors = [model.wv[word] for word in text if word in model.wv]\n",
    "    if len(word_vectors) > 0:\n",
    "        return np.mean(word_vectors, axis=0)\n",
    "    else:\n",
    "        return np.zeros(model.vector_size)\n",
    "    \n",
    "train_vectors = train['text'].apply(lambda x: vectorize_text(x, model))\n",
    "test_vectors = test['text'].apply(lambda x: vectorize_text(x, model))\n",
    "validation_vectors = validation['text'].apply(lambda x: vectorize_text(x, model))\n",
    "\n",
    "X_train = np.vstack(train_vectors)\n",
    "X_test = np.vstack(test_vectors)\n",
    "X_validation = np.vstack(validation_vectors)\n",
    "\n",
    "y_train = train['label']\n",
    "y_test = test['label']\n",
    "y_validation = validation['label']"
   ]
  },
  {
   "cell_type": "code",
   "execution_count": 24,
   "metadata": {},
   "outputs": [
    {
     "name": "stdout",
     "output_type": "stream",
     "text": [
      "Logistic Regression Accuracy: 0.7825\n",
      "              precision    recall  f1-score   support\n",
      "\n",
      "           0       0.77      0.73      0.75       581\n",
      "           1       0.82      0.88      0.85       854\n",
      "           3       0.73      0.72      0.73       499\n",
      "           5       0.72      0.52      0.60        66\n",
      "\n",
      "    accuracy                           0.78      2000\n",
      "   macro avg       0.76      0.71      0.73      2000\n",
      "weighted avg       0.78      0.78      0.78      2000\n",
      "\n",
      "[[423  87  71   0]\n",
      " [ 57 749  44   4]\n",
      " [ 70  61 359   9]\n",
      " [  1  16  15  34]]\n"
     ]
    },
    {
     "name": "stderr",
     "output_type": "stream",
     "text": [
      "c:\\Users\\perri\\Desktop\\WORKSPACE\\Sentiment analysis\\mon_env\\Lib\\site-packages\\sklearn\\linear_model\\_logistic.py:469: ConvergenceWarning: lbfgs failed to converge (status=1):\n",
      "STOP: TOTAL NO. of ITERATIONS REACHED LIMIT.\n",
      "\n",
      "Increase the number of iterations (max_iter) or scale the data as shown in:\n",
      "    https://scikit-learn.org/stable/modules/preprocessing.html\n",
      "Please also refer to the documentation for alternative solver options:\n",
      "    https://scikit-learn.org/stable/modules/linear_model.html#logistic-regression\n",
      "  n_iter_i = _check_optimize_result(\n"
     ]
    }
   ],
   "source": [
    "from sklearn.linear_model import LogisticRegression\n",
    "from sklearn.metrics import classification_report, accuracy_score, confusion_matrix\n",
    "\n",
    "rf_logistic = LogisticRegression(random_state=42)\n",
    "rf_logistic.fit(X_train, y_train)\n",
    "\n",
    "\n",
    "y_pred_lg = rf_logistic.predict(X_test)\n",
    "print(f'Logistic Regression Accuracy: {accuracy_score(y_test, y_pred_lg)}')\n",
    "print(classification_report(y_test, y_pred_lg))\n",
    "print(confusion_matrix(y_test, y_pred_lg))\n"
   ]
  },
  {
   "cell_type": "code",
   "execution_count": 25,
   "metadata": {},
   "outputs": [],
   "source": [
    "def predict_sentiment(model):\n",
    "    # Nouvelle phrase à prédire\n",
    "    new_sentence = input('Entrez une phrase : ')\n",
    "\n",
    "    # Étape 1 : Prétraiter la phrase\n",
    "    preprocessed_sentence = preprocess_text(new_sentence)\n",
    "\n",
    "    # Étape 2 : Vectoriser la phrase\n",
    "    sentence_vector = vectorize_text(preprocessed_sentence, model)\n",
    "\n",
    "    # Étape 3 : Prédire le label avec les modèles entraînés\n",
    "    predicted_label_rf = rf_logistic.predict([sentence_vector])\n",
    "    # predicted_label_svc = svc_classifier.predict([sentence_vector])\n",
    "\n",
    "    # Afficher le résultat\n",
    "    print(f'Predicted label by Logistic: {predicted_label_rf[0]}')\n",
    "    # print(f'Predicted label by SVC: {predicted_label_svc[0]}')"
   ]
  },
  {
   "cell_type": "code",
   "execution_count": 26,
   "metadata": {},
   "outputs": [
    {
     "name": "stdout",
     "output_type": "stream",
     "text": [
      "Predicted label by Logistic: 1\n"
     ]
    }
   ],
   "source": [
    "predict_sentiment(model)"
   ]
  },
  {
   "cell_type": "code",
   "execution_count": 27,
   "metadata": {
    "id": "Nucm7UbW0Btu"
   },
   "outputs": [
    {
     "name": "stdout",
     "output_type": "stream",
     "text": [
      "RandomForestClassifier Accuracy: 0.651\n",
      "              precision    recall  f1-score   support\n",
      "\n",
      "           0       0.68      0.53      0.60       581\n",
      "           1       0.62      0.92      0.74       854\n",
      "           3       0.74      0.41      0.53       499\n",
      "           5       0.50      0.03      0.06        66\n",
      "\n",
      "    accuracy                           0.65      2000\n",
      "   macro avg       0.64      0.47      0.48      2000\n",
      "weighted avg       0.66      0.65      0.62      2000\n",
      "\n"
     ]
    }
   ],
   "source": [
    "from sklearn.ensemble import RandomForestClassifier\n",
    "from sklearn.metrics import accuracy_score, classification_report, confusion_matrix\n",
    "\n",
    "rf_classifier = RandomForestClassifier()\n",
    "rf_classifier.fit(X_train, y_train)\n",
    "\n",
    "\n",
    "y_pred_rf = rf_classifier.predict(X_test)\n",
    "print(f'RandomForestClassifier Accuracy: {accuracy_score(y_test, y_pred_rf)}')\n",
    "print(classification_report(y_test, y_pred_rf))\n"
   ]
  },
  {
   "cell_type": "code",
   "execution_count": 28,
   "metadata": {},
   "outputs": [
    {
     "name": "stdout",
     "output_type": "stream",
     "text": [
      "[[307 231  43   0]\n",
      " [ 43 788  21   2]\n",
      " [ 87 207 205   0]\n",
      " [ 12  43   9   2]]\n"
     ]
    }
   ],
   "source": [
    "print(confusion_matrix(y_test, y_pred_rf))"
   ]
  },
  {
   "cell_type": "code",
   "execution_count": 29,
   "metadata": {},
   "outputs": [
    {
     "name": "stdout",
     "output_type": "stream",
     "text": [
      "SVC Accuracy: 0.815\n",
      "              precision    recall  f1-score   support\n",
      "\n",
      "           0       0.81      0.78      0.79       581\n",
      "           1       0.83      0.92      0.87       854\n",
      "           3       0.80      0.74      0.77       499\n",
      "           5       0.89      0.36      0.52        66\n",
      "\n",
      "    accuracy                           0.81      2000\n",
      "   macro avg       0.83      0.70      0.74      2000\n",
      "weighted avg       0.82      0.81      0.81      2000\n",
      "\n"
     ]
    }
   ],
   "source": [
    "from sklearn.svm import SVC\n",
    "\n",
    "svc_classifier = SVC()\n",
    "svc_classifier.fit(X_train, y_train)\n",
    "\n",
    "# Prédiction et évaluation\n",
    "y_pred_svc = svc_classifier.predict(X_test)\n",
    "print(f'SVC Accuracy: {accuracy_score(y_test, y_pred_svc)}')\n",
    "print(classification_report(y_test, y_pred_svc))\n"
   ]
  },
  {
   "cell_type": "code",
   "execution_count": 30,
   "metadata": {},
   "outputs": [
    {
     "name": "stdout",
     "output_type": "stream",
     "text": [
      "RandomForestClassifier Validation Accuracy: 0.6355\n",
      "              precision    recall  f1-score   support\n",
      "\n",
      "           0       0.64      0.53      0.58       550\n",
      "           1       0.62      0.91      0.74       882\n",
      "           3       0.72      0.36      0.48       487\n",
      "           5       0.75      0.04      0.07        81\n",
      "\n",
      "    accuracy                           0.64      2000\n",
      "   macro avg       0.68      0.46      0.47      2000\n",
      "weighted avg       0.65      0.64      0.60      2000\n",
      "\n",
      "SVC Validation Accuracy: 0.809\n",
      "              precision    recall  f1-score   support\n",
      "\n",
      "           0       0.79      0.78      0.78       550\n",
      "           1       0.83      0.91      0.86       882\n",
      "           3       0.79      0.72      0.75       487\n",
      "           5       0.88      0.47      0.61        81\n",
      "\n",
      "    accuracy                           0.81      2000\n",
      "   macro avg       0.82      0.72      0.75      2000\n",
      "weighted avg       0.81      0.81      0.81      2000\n",
      "\n"
     ]
    }
   ],
   "source": [
    "y_pred_validation_rf = rf_classifier.predict(X_validation)\n",
    "print(f'RandomForestClassifier Validation Accuracy: {accuracy_score(y_validation, y_pred_validation_rf)}')\n",
    "print(classification_report(y_validation, y_pred_validation_rf))\n",
    "\n",
    "y_pred_validation_svc = svc_classifier.predict(X_validation)\n",
    "print(f'SVC Validation Accuracy: {accuracy_score(y_validation, y_pred_validation_svc)}')\n",
    "print(classification_report(y_validation, y_pred_validation_svc))"
   ]
  },
  {
   "cell_type": "code",
   "execution_count": 32,
   "metadata": {},
   "outputs": [],
   "source": [
    "def predict_sentiment(model):\n",
    "    # Nouvelle phrase à prédire\n",
    "    new_sentence = input('Entrez une phrase : ')\n",
    "\n",
    "    # Étape 1 : Prétraiter la phrase\n",
    "    preprocessed_sentence = preprocess_text(new_sentence)\n",
    "\n",
    "    # Étape 2 : Vectoriser la phrase\n",
    "    sentence_vector = vectorize_text(preprocessed_sentence, model)\n",
    "\n",
    "    # Étape 3 : Prédire le label avec les modèles entraînés\n",
    "    predicted_label_rf = svc_classifier.predict([sentence_vector])\n",
    "    # predicted_label_svc = svc_classifier.predict([sentence_vector])\n",
    "\n",
    "    # Afficher le résultat\n",
    "    print(f'Predicted label by SVC: {predicted_label_rf[0]}')\n",
    "    # print(f'Predicted label by SVC: {predicted_label_svc[0]}')"
   ]
  },
  {
   "cell_type": "code",
   "execution_count": 35,
   "metadata": {},
   "outputs": [
    {
     "name": "stdout",
     "output_type": "stream",
     "text": [
      "Predicted label by SVC: 1\n"
     ]
    }
   ],
   "source": [
    "predict_sentiment(model)"
   ]
  },
  {
   "cell_type": "code",
   "execution_count": 36,
   "metadata": {},
   "outputs": [],
   "source": [
    "import pickle\n",
    "\n",
    "with open('modele.pkl', 'wb') as fichier_modele:\n",
    "    pickle.dump(model, fichier_modele)"
   ]
  },
  {
   "cell_type": "code",
   "execution_count": 37,
   "metadata": {},
   "outputs": [],
   "source": [
    "with open('svc_classifer.pkl', 'wb') as fichier_modele:\n",
    "    pickle.dump(svc_classifier, fichier_modele)"
   ]
  },
  {
   "cell_type": "code",
   "execution_count": 38,
   "metadata": {},
   "outputs": [],
   "source": [
    "with open('logistic.pkl', 'wb') as fichier_modele:\n",
    "    pickle.dump(rf_logistic, fichier_modele)"
   ]
  },
  {
   "cell_type": "code",
   "execution_count": 31,
   "metadata": {
    "id": "qUs3MoV70FMB"
   },
   "outputs": [],
   "source": [
    "# models = [LogisticRegression(random_state=42), DecisionTreeClassifier(criterion='entropy'), RandomForestClassifier(), XGBClassifier()]\n",
    "\n",
    "#for model in models:\n",
    "\n",
    "    #print(f'________________{model}')\n",
    "    #model.fit(X_train, y_train)\n",
    "    #y_pred = model.predict(X_val)\n",
    "    #print(f'Confusion matrix: {confusion_matrix(y_val, y_pred)}')\n",
    "    #print(f'Accuracy : {accuracy_score(y_val, y_pred)}')\n",
    "    #print(f'Classification Report : {classification_report(y_val, y_pred)}')"
   ]
  },
  {
   "cell_type": "code",
   "execution_count": null,
   "metadata": {
    "id": "cJQfJZmE3D4h"
   },
   "outputs": [],
   "source": []
  }
 ],
 "metadata": {
  "colab": {
   "provenance": []
  },
  "kernelspec": {
   "display_name": "Python 3",
   "language": "python",
   "name": "python3"
  },
  "language_info": {
   "codemirror_mode": {
    "name": "ipython",
    "version": 3
   },
   "file_extension": ".py",
   "mimetype": "text/x-python",
   "name": "python",
   "nbconvert_exporter": "python",
   "pygments_lexer": "ipython3",
   "version": "3.8.8"
  }
 },
 "nbformat": 4,
 "nbformat_minor": 1
}
