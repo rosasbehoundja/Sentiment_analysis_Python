{
 "cells": [
  {
   "cell_type": "code",
   "execution_count": 1,
   "metadata": {
    "id": "SpvFmszjAQUd"
   },
   "outputs": [],
   "source": [
    "import numpy as np\n",
    "import pandas as pd\n",
    "import matplotlib.pyplot as plt\n",
    "import seaborn as sns"
   ]
  },
  {
   "cell_type": "code",
   "execution_count": 2,
   "metadata": {
    "id": "G2rL7eNqA-wE"
   },
   "outputs": [],
   "source": [
    "train = pd.read_csv(\"../Datasets/new_data.csv\")\n",
    "# test = pd.read_csv('Datasets/test.csv')\n",
    "# validation = pd.read_csv('Datasets/validation.csv')"
   ]
  },
  {
   "cell_type": "code",
   "execution_count": 3,
   "metadata": {
    "colab": {
     "base_uri": "https://localhost:8080/",
     "height": 226
    },
    "id": "2gpzz_yAZbCK",
    "outputId": "27a4e0b2-c616-4254-8fc8-bc00fc485918"
   },
   "outputs": [
    {
     "data": {
      "text/plain": [
       "Index(['Unnamed: 0', 'text', 'label'], dtype='object')"
      ]
     },
     "execution_count": 3,
     "metadata": {},
     "output_type": "execute_result"
    }
   ],
   "source": [
    "train.columns"
   ]
  },
  {
   "cell_type": "code",
   "execution_count": 4,
   "metadata": {
    "colab": {
     "base_uri": "https://localhost:8080/"
    },
    "id": "spNo9WVcZ4TL",
    "outputId": "5ac99889-f432-4679-eec5-53a5c8db5647"
   },
   "outputs": [],
   "source": [
    "train.drop('Unnamed: 0',axis=1,inplace=True)"
   ]
  },
  {
   "cell_type": "code",
   "execution_count": 5,
   "metadata": {
    "colab": {
     "base_uri": "https://localhost:8080/"
    },
    "id": "7F34X9gvaHNF",
    "outputId": "23a2df29-677a-450f-9da8-90a2db179ec3"
   },
   "outputs": [
    {
     "name": "stdout",
     "output_type": "stream",
     "text": [
      "<class 'pandas.core.frame.DataFrame'>\n",
      "RangeIndex: 24038 entries, 0 to 24037\n",
      "Data columns (total 2 columns):\n",
      " #   Column  Non-Null Count  Dtype \n",
      "---  ------  --------------  ----- \n",
      " 0   text    24038 non-null  object\n",
      " 1   label   24038 non-null  int64 \n",
      "dtypes: int64(1), object(1)\n",
      "memory usage: 375.7+ KB\n"
     ]
    }
   ],
   "source": [
    "train.info()"
   ]
  },
  {
   "cell_type": "code",
   "execution_count": 6,
   "metadata": {},
   "outputs": [
    {
     "data": {
      "text/plain": [
       "label\n",
       "4    6500\n",
       "1    6467\n",
       "0    5882\n",
       "3    5189\n",
       "Name: count, dtype: int64"
      ]
     },
     "execution_count": 6,
     "metadata": {},
     "output_type": "execute_result"
    }
   ],
   "source": [
    "train['label'].value_counts()"
   ]
  },
  {
   "cell_type": "markdown",
   "metadata": {
    "id": "lsOsNHBTa-tC"
   },
   "source": [
    "## Visualisation"
   ]
  },
  {
   "cell_type": "code",
   "execution_count": 7,
   "metadata": {
    "colab": {
     "base_uri": "https://localhost:8080/",
     "height": 487
    },
    "id": "wyN7RDVraZWD",
    "outputId": "6dbea7b5-d18f-4ac7-c228-04c7ef4259f0"
   },
   "outputs": [
    {
     "data": {
      "text/plain": [
       "<Axes: xlabel='label', ylabel='count'>"
      ]
     },
     "execution_count": 7,
     "metadata": {},
     "output_type": "execute_result"
    },
    {
     "data": {
      "image/png": "[encoded data removed]",
      "text/plain": [
       "<Figure size 640x480 with 1 Axes>"
      ]
     },
     "metadata": {},
     "output_type": "display_data"
    }
   ],
   "source": [
    "sns.countplot(x='label',data=train)"
   ]
  },
  {
   "cell_type": "code",
   "execution_count": 8,
   "metadata": {},
   "outputs": [],
   "source": [
    "train['text']=train['text'].astype(str)"
   ]
  },
  {
   "cell_type": "code",
   "execution_count": 9,
   "metadata": {},
   "outputs": [
    {
     "name": "stdout",
     "output_type": "stream",
     "text": [
      "<class 'pandas.core.frame.DataFrame'>\n",
      "RangeIndex: 24038 entries, 0 to 24037\n",
      "Data columns (total 2 columns):\n",
      " #   Column  Non-Null Count  Dtype \n",
      "---  ------  --------------  ----- \n",
      " 0   text    24038 non-null  object\n",
      " 1   label   24038 non-null  int64 \n",
      "dtypes: int64(1), object(1)\n",
      "memory usage: 375.7+ KB\n"
     ]
    }
   ],
   "source": [
    "train.info()"
   ]
  },
  {
   "cell_type": "markdown",
   "metadata": {
    "id": "41I8dzDpbyKe"
   },
   "source": [
    "## Data Preprocessing"
   ]
  },
  {
   "cell_type": "code",
   "execution_count": 10,
   "metadata": {
    "colab": {
     "base_uri": "https://localhost:8080/"
    },
    "id": "43Ub-ZHAa5Zl",
    "outputId": "f080b91c-c095-4cc2-9ef9-8b520b2accb4"
   },
   "outputs": [
    {
     "name": "stderr",
     "output_type": "stream",
     "text": [
      "[nltk_data] Downloading package stopwords to\n",
      "[nltk_data]     C:\\Users\\perri\\AppData\\Roaming\\nltk_data...\n",
      "[nltk_data]   Package stopwords is already up-to-date!\n",
      "[nltk_data] Downloading package punkt to\n",
      "[nltk_data]     C:\\Users\\perri\\AppData\\Roaming\\nltk_data...\n",
      "[nltk_data]   Package punkt is already up-to-date!\n",
      "[nltk_data] Downloading package wordnet to\n",
      "[nltk_data]     C:\\Users\\perri\\AppData\\Roaming\\nltk_data...\n",
      "[nltk_data]   Package wordnet is already up-to-date!\n",
      "[nltk_data] Downloading package punkt_tab to\n",
      "[nltk_data]     C:\\Users\\perri\\AppData\\Roaming\\nltk_data...\n",
      "[nltk_data]   Package punkt_tab is already up-to-date!\n"
     ]
    },
    {
     "data": {
      "text/plain": [
       "True"
      ]
     },
     "execution_count": 10,
     "metadata": {},
     "output_type": "execute_result"
    }
   ],
   "source": [
    "import re\n",
    "import nltk\n",
    "nltk.download('stopwords')\n",
    "from nltk.corpus import stopwords\n",
    "from nltk.tokenize import word_tokenize\n",
    "from nltk.stem import WordNetLemmatizer\n",
    "# \n",
    "nltk.download('punkt')\n",
    "nltk.download('wordnet')\n",
    "nltk.download('punkt_tab')"
   ]
  },
  {
   "cell_type": "code",
   "execution_count": 11,
   "metadata": {},
   "outputs": [
    {
     "name": "stdout",
     "output_type": "stream",
     "text": [
      "['i', 'me', 'my', 'myself', 'we', 'our', 'ours', 'ourselves', 'you', \"you're\", \"you've\", \"you'll\", \"you'd\", 'your', 'yours', 'yourself', 'yourselves', 'he', 'him', 'his', 'himself', 'she', \"she's\", 'her', 'hers', 'herself', 'it', \"it's\", 'its', 'itself', 'they', 'them', 'their', 'theirs', 'themselves', 'what', 'which', 'who', 'whom', 'this', 'that', \"that'll\", 'these', 'those', 'am', 'is', 'are', 'was', 'were', 'be', 'been', 'being', 'have', 'has', 'had', 'having', 'do', 'does', 'did', 'doing', 'a', 'an', 'the', 'and', 'but', 'if', 'or', 'because', 'as', 'until', 'while', 'of', 'at', 'by', 'for', 'with', 'about', 'against', 'between', 'into', 'through', 'during', 'before', 'after', 'above', 'below', 'to', 'from', 'up', 'down', 'in', 'out', 'on', 'off', 'over', 'under', 'again', 'further', 'then', 'once', 'here', 'there', 'when', 'where', 'why', 'how', 'all', 'any', 'both', 'each', 'few', 'more', 'most', 'other', 'some', 'such', 'no', 'nor', 'not', 'only', 'own', 'same', 'so', 'than', 'too', 'very', 's', 't', 'can', 'will', 'just', 'don', \"don't\", 'should', \"should've\", 'now', 'd', 'll', 'm', 'o', 're', 've', 'y', 'ain', 'aren', \"aren't\", 'couldn', \"couldn't\", 'didn', \"didn't\", 'doesn', \"doesn't\", 'hadn', \"hadn't\", 'hasn', \"hasn't\", 'haven', \"haven't\", 'isn', \"isn't\", 'ma', 'mightn', \"mightn't\", 'mustn', \"mustn't\", 'needn', \"needn't\", 'shan', \"shan't\", 'shouldn', \"shouldn't\", 'wasn', \"wasn't\", 'weren', \"weren't\", 'won', \"won't\", 'wouldn', \"wouldn't\"]\n"
     ]
    }
   ],
   "source": [
    "print(list(stopwords.words('english')))"
   ]
  },
  {
   "cell_type": "code",
   "execution_count": 12,
   "metadata": {},
   "outputs": [],
   "source": [
    "stop_neg = ['until', 'against', 'no', 'nor', 'not','don', \"don't\",'ain', 'aren', \"aren't\", 'couldn', \"couldn't\", 'didn', \"didn't\", 'doesn', \"doesn't\", 'hadn', \"hadn't\", 'hasn', \"hasn't\", 'haven', \"haven't\", 'isn', \"isn't\", 'ma', 'mightn', \"mightn't\", 'mustn', \"mustn't\", 'needn', \"needn't\", 'shan', \"shan't\", 'shouldn', \"shouldn't\", 'wasn', \"wasn't\", 'weren', \"weren't\", 'won', \"won't\", 'wouldn', \"wouldn't\"]"
   ]
  },
  {
   "cell_type": "code",
   "execution_count": 13,
   "metadata": {},
   "outputs": [],
   "source": [
    "stop_list = [i for i in list(stopwords.words('english')) if i not in stop_neg]"
   ]
  },
  {
   "cell_type": "code",
   "execution_count": 2,
   "metadata": {
    "id": "qsppDMJvghRH"
   },
   "outputs": [],
   "source": [
    "def preprocess_text(text):\n",
    "    text = text.lower()\n",
    "    # Nettoyage du train set\n",
    "    text = re.sub(r'https\\S+|www\\S+|https\\S+', '', text, flags=re.MULTILINE)\n",
    "    text = re.sub(r'\\@w+|\\#', '', text)\n",
    "    text = re.sub(r'#\\w+', '', text)\n",
    "    text = re.sub(r'[^\\w\\s]', '', text)\n",
    "    \n",
    "    tokens = word_tokenize(text) # tokenisation\n",
    "    tokens = [token for token in tokens if token not in ['feel', 'feeling']]\n",
    "    filtered_tokens = [token for token in tokens if token not in stop_list]\n",
    "    lemmatizer = WordNetLemmatizer()\n",
    "    lemmatized_tokens = [str(lemmatizer.lemmatize(token)) for token in filtered_tokens]\n",
    "    # lemmatized_tokens = [str(lemmatizer.lemmatize(token)) for token in tokens]\n",
    "    return lemmatized_tokens"
   ]
  },
  {
   "cell_type": "code",
   "execution_count": 15,
   "metadata": {},
   "outputs": [],
   "source": [
    "train['text'] = train['text'].apply(preprocess_text)"
   ]
  },
  {
   "cell_type": "code",
   "execution_count": 16,
   "metadata": {},
   "outputs": [
    {
     "name": "stdout",
     "output_type": "stream",
     "text": [
      "['didnt', 'humiliated']\n"
     ]
    }
   ],
   "source": [
    "print(train.text.iloc[0])"
   ]
  },
  {
   "cell_type": "code",
   "execution_count": 17,
   "metadata": {
    "colab": {
     "base_uri": "https://localhost:8080/",
     "height": 226
    },
    "id": "fKBs2FEQivPN",
    "outputId": "0704057f-dafb-4489-a5e4-961669a13091"
   },
   "outputs": [
    {
     "data": {
      "text/html": [
       "<div>\n",
       "<style scoped>\n",
       "    .dataframe tbody tr th:only-of-type {\n",
       "        vertical-align: middle;\n",
       "    }\n",
       "\n",
       "    .dataframe tbody tr th {\n",
       "        vertical-align: top;\n",
       "    }\n",
       "\n",
       "    .dataframe thead th {\n",
       "        text-align: right;\n",
       "    }\n",
       "</style>\n",
       "<table border=\"1\" class=\"dataframe\">\n",
       "  <thead>\n",
       "    <tr style=\"text-align: right;\">\n",
       "      <th></th>\n",
       "      <th>text</th>\n",
       "      <th>label</th>\n",
       "    </tr>\n",
       "  </thead>\n",
       "  <tbody>\n",
       "    <tr>\n",
       "      <th>0</th>\n",
       "      <td>[didnt, humiliated]</td>\n",
       "      <td>0</td>\n",
       "    </tr>\n",
       "    <tr>\n",
       "      <th>1</th>\n",
       "      <td>[go, hopeless, damned, hopeful, around, someon...</td>\n",
       "      <td>0</td>\n",
       "    </tr>\n",
       "    <tr>\n",
       "      <th>2</th>\n",
       "      <td>[im, grabbing, minute, post, greedy, wrong]</td>\n",
       "      <td>3</td>\n",
       "    </tr>\n",
       "    <tr>\n",
       "      <th>3</th>\n",
       "      <td>[ever, nostalgic, fireplace, know, still, prop...</td>\n",
       "      <td>1</td>\n",
       "    </tr>\n",
       "    <tr>\n",
       "      <th>4</th>\n",
       "      <td>[grouchy]</td>\n",
       "      <td>3</td>\n",
       "    </tr>\n",
       "  </tbody>\n",
       "</table>\n",
       "</div>"
      ],
      "text/plain": [
       "                                                text  label\n",
       "0                                [didnt, humiliated]      0\n",
       "1  [go, hopeless, damned, hopeful, around, someon...      0\n",
       "2        [im, grabbing, minute, post, greedy, wrong]      3\n",
       "3  [ever, nostalgic, fireplace, know, still, prop...      1\n",
       "4                                          [grouchy]      3"
      ]
     },
     "execution_count": 17,
     "metadata": {},
     "output_type": "execute_result"
    }
   ],
   "source": [
    "train.head()"
   ]
  },
  {
   "cell_type": "code",
   "execution_count": 18,
   "metadata": {},
   "outputs": [],
   "source": [
    "from sklearn.model_selection import train_test_split\n",
    "\n",
    "train, test = train_test_split(train, test_size=0.3, random_state=42)"
   ]
  },
  {
   "cell_type": "code",
   "execution_count": 19,
   "metadata": {},
   "outputs": [
    {
     "name": "stdout",
     "output_type": "stream",
     "text": [
      "<class 'pandas.core.frame.DataFrame'>\n",
      "Index: 16826 entries, 12513 to 23654\n",
      "Data columns (total 2 columns):\n",
      " #   Column  Non-Null Count  Dtype \n",
      "---  ------  --------------  ----- \n",
      " 0   text    16826 non-null  object\n",
      " 1   label   16826 non-null  int64 \n",
      "dtypes: int64(1), object(1)\n",
      "memory usage: 394.4+ KB\n"
     ]
    }
   ],
   "source": [
    "train.info()"
   ]
  },
  {
   "cell_type": "code",
   "execution_count": 20,
   "metadata": {},
   "outputs": [
    {
     "name": "stdout",
     "output_type": "stream",
     "text": [
      "<class 'pandas.core.frame.DataFrame'>\n",
      "Index: 7212 entries, 2797 to 2540\n",
      "Data columns (total 2 columns):\n",
      " #   Column  Non-Null Count  Dtype \n",
      "---  ------  --------------  ----- \n",
      " 0   text    7212 non-null   object\n",
      " 1   label   7212 non-null   int64 \n",
      "dtypes: int64(1), object(1)\n",
      "memory usage: 169.0+ KB\n"
     ]
    }
   ],
   "source": [
    "test.info()"
   ]
  },
  {
   "cell_type": "code",
   "execution_count": 21,
   "metadata": {
    "id": "K43H6gYYo_-h"
   },
   "outputs": [
    {
     "name": "stdout",
     "output_type": "stream",
     "text": [
      "[('inadequate', 0.22271504998207092), ('everything', 0.16949787735939026), ('valued', 0.15964101254940033), ('attention', 0.15668714046478271), ('unimportant', 0.15634649991989136), ('hateful', 0.15409348905086517), ('awkward', 0.14752276241779327), ('shitty', 0.14575447142124176), ('greedy', 0.1455041766166687), ('didnt', 0.14374329149723053)]\n"
     ]
    }
   ],
   "source": [
    "from gensim.models import Word2Vec\n",
    "\n",
    "model = Word2Vec(sentences=train['text'], min_count=25, vector_size=600, window=8, workers=10, epochs=100)\n",
    "model.train(train['text'], total_examples=len(train['text']), epochs=100)\n",
    "\n",
    "\n",
    "print(model.wv.most_similar('hate'))\n",
    "\n",
    "\n",
    "def vectorize_text(text, model):\n",
    "    word_vectors = [model.wv[word] for word in text if word in model.wv]\n",
    "    if len(word_vectors) > 0:\n",
    "        return np.mean(word_vectors, axis=0)\n",
    "    else:\n",
    "        return np.zeros(model.vector_size)\n",
    "    \n",
    "train_vectors = train['text'].apply(lambda x: vectorize_text(x, model))\n",
    "test_vectors = test['text'].apply(lambda x: vectorize_text(x, model))\n",
    "# validation_vectors = validation['text'].apply(lambda x: vectorize_text(x, model))\n",
    "\n",
    "X_train = np.vstack(train_vectors)\n",
    "X_test = np.vstack(test_vectors)\n",
    "# X_validation = np.vstack(validation_vectors)\n",
    "\n",
    "y_train = train['label']\n",
    "y_test = test['label']\n",
    "# y_validation = validation['label']"
   ]
  },
  {
   "cell_type": "code",
   "execution_count": 22,
   "metadata": {},
   "outputs": [
    {
     "name": "stdout",
     "output_type": "stream",
     "text": [
      "Logistic Regression Accuracy: 0.7440377149195785\n",
      "              precision    recall  f1-score   support\n",
      "\n",
      "           0       0.69      0.70      0.70      1745\n",
      "           1       0.73      0.80      0.76      1911\n",
      "           3       0.75      0.74      0.75      1566\n",
      "           4       0.79      0.74      0.76      1990\n",
      "\n",
      "    accuracy                           0.74      7212\n",
      "   macro avg       0.74      0.74      0.74      7212\n",
      "weighted avg       0.75      0.74      0.74      7212\n",
      "\n",
      "[[1216  223  165  141]\n",
      " [ 175 1528   83  125]\n",
      " [ 167  129 1158  112]\n",
      " [ 194  204  128 1464]]\n"
     ]
    }
   ],
   "source": [
    "from sklearn.linear_model import SGDClassifier\n",
    "from sklearn.metrics import accuracy_score, classification_report, confusion_matrix\n",
    "\n",
    "# Replace LogisticRegression with SGDClassifier for online learning\n",
    "rf_logistic = SGDClassifier(loss='hinge', random_state=42, max_iter=1000, tol=1e-3)\n",
    "rf_logistic.fit(X_train, y_train)\n",
    "\n",
    "y_pred_lg = rf_logistic.predict(X_test)\n",
    "print(f'Logistic Regression Accuracy: {accuracy_score(y_test, y_pred_lg)}')\n",
    "print(classification_report(y_test, y_pred_lg))\n",
    "print(confusion_matrix(y_test, y_pred_lg))\n"
   ]
  },
  {
   "cell_type": "code",
   "execution_count": 23,
   "metadata": {},
   "outputs": [
    {
     "name": "stdout",
     "output_type": "stream",
     "text": [
      "SVC Accuracy: 0.8065723793677204\n",
      "              precision    recall  f1-score   support\n",
      "\n",
      "           0       0.75      0.77      0.76      1745\n",
      "           1       0.76      0.87      0.81      1911\n",
      "           3       0.88      0.79      0.83      1566\n",
      "           4       0.87      0.79      0.83      1990\n",
      "\n",
      "    accuracy                           0.81      7212\n",
      "   macro avg       0.81      0.81      0.81      7212\n",
      "weighted avg       0.81      0.81      0.81      7212\n",
      "\n"
     ]
    }
   ],
   "source": [
    "from sklearn.svm import SVC\n",
    "\n",
    "svc_classifier = SVC()\n",
    "svc_classifier.fit(X_train, y_train)\n",
    "\n",
    "# Prédiction et évaluation\n",
    "y_pred_svc = svc_classifier.predict(X_test)  \n",
    "print(f'SVC Accuracy: {accuracy_score(y_test, y_pred_svc)}')\n",
    "print(classification_report(y_test, y_pred_svc))\n"
   ]
  },
  {
   "cell_type": "code",
   "execution_count": 24,
   "metadata": {},
   "outputs": [
    {
     "name": "stdout",
     "output_type": "stream",
     "text": [
      "[[1338  212   80  115]\n",
      " [ 148 1667   36   60]\n",
      " [ 129  131 1235   71]\n",
      " [ 175  188   50 1577]]\n"
     ]
    }
   ],
   "source": [
    "print(confusion_matrix(y_test, y_pred_svc))"
   ]
  },
  {
   "cell_type": "code",
   "execution_count": 25,
   "metadata": {},
   "outputs": [],
   "source": [
    "# Updating the predict_sentiment function to ask for feedback and learn from it\n",
    "def predict_and_learn(model, vectorizer_model):\n",
    "    # Step 1: Get a sentence from the user\n",
    "    new_sentence = input(\"Enter a sentence: \")\n",
    "\n",
    "    # Step 2: Preprocess and vectorize the sentence\n",
    "    preprocessed_sentence = preprocess_text(new_sentence)\n",
    "    sentence_vector = vectorize_text(preprocessed_sentence, vectorizer_model)\n",
    "\n",
    "    # Step 3: Make a prediction using the trained model\n",
    "    predicted_label = model.predict([sentence_vector])[0]\n",
    "    print(f\"Predicted label: {predicted_label}\")\n",
    "\n",
    "    # Step 4: Ask the user if the prediction was correct\n",
    "    feedback = input(\"Was the prediction correct? (yes/no): \").lower()\n",
    "\n",
    "    if feedback == 'yes':\n",
    "        print(\"Great! The model has noted that the prediction was correct.\")\n",
    "    elif feedback == 'no':\n",
    "        # Step 5: If incorrect, ask for the correct label\n",
    "        correct_label = input(f\"What should the correct label be? Choose from: {train['label'].unique()}: \")\n",
    "\n",
    "        # Step 6: Convert the corrected label to a format that can be used for training\n",
    "        correct_label = int(correct_label)  # Assuming your labels are encoded as integers\n",
    "\n",
    "        # Step 7: Update the model using partial_fit\n",
    "        model.partial_fit([sentence_vector], [correct_label], classes=np.unique(y_train))\n",
    "\n",
    "        print(f\"The model has been updated with the correct label: {correct_label}\")\n",
    "\n",
    "    else:\n",
    "        print(\"Invalid input. Please enter 'yes' or 'no'.\")\n",
    "\n",
    "# # Example of calling the function\n",
    "# predict_and_learn(rf_logistic, model)\n",
    "# y_pred_lg = rf_logistic.predict(X_test)\n",
    "# print(f'Logistic Regression Accuracy: {accuracy_score(y_test, y_pred_lg)}')"
   ]
  },
  {
   "cell_type": "code",
   "execution_count": 26,
   "metadata": {},
   "outputs": [],
   "source": [
    "def predict_sentiment(model):\n",
    "    # Nouvelle phrase à prédire\n",
    "    new_sentence = input('Entrez une phrase : ')\n",
    "\n",
    "    # Étape 1 : Prétraiter la phrase\n",
    "    preprocessed_sentence = preprocess_text(new_sentence)\n",
    "\n",
    "    # Étape 2 : Vectoriser la phrase\n",
    "    sentence_vector = vectorize_text(preprocessed_sentence, model)\n",
    "\n",
    "    # Étape 3 : Prédire le label avec les modèles entraînés\n",
    "    predicted_label_rf = rf_logistic.predict([sentence_vector])\n",
    "    # predicted_label_svc = svc_classifier.predict([sentence_vector])\n",
    "\n",
    "    # Afficher le résultat\n",
    "    print(f'Predicted label by Logistic: {predicted_label_rf[0]}')\n",
    "    # print(f'Predicted label by SVC: {predicted_label_svc[0]}')\n",
    "    \n",
    "    \n",
    "def predict_sentiment_svc(model):\n",
    "    # Nouvelle phrase à prédire\n",
    "    new_sentence = input('Entrez une phrase : ')\n",
    "\n",
    "    # Étape 1 : Prétraiter la phrase\n",
    "    preprocessed_sentence = preprocess_text(new_sentence)\n",
    "\n",
    "    # Étape 2 : Vectoriser la phrase\n",
    "    sentence_vector = vectorize_text(preprocessed_sentence, model)\n",
    "\n",
    "    # Étape 3 : Prédire le label avec les modèles entraînés\n",
    "    predicted_label_rf = svc_classifier.predict([sentence_vector])\n",
    "    # predicted_label_svc = svc_classifier.predict([sentence_vector])\n",
    "\n",
    "    # Afficher le résultat\n",
    "    print(f'Predicted label by SVC: {predicted_label_rf[0]}')\n",
    "    # print(f'Predicted label by SVC: {predicted_label_svc[0]}')"
   ]
  },
  {
   "cell_type": "code",
   "execution_count": 29,
   "metadata": {},
   "outputs": [],
   "source": [
    "import joblib\n",
    "\n",
    "with open('modele.joblib', 'wb') as fichier_modele:\n",
    "    joblib.dump(model, fichier_modele)\n",
    "    \n",
    "with open('trained_model.joblib', 'wb') as fichier_modele:\n",
    "    joblib.dump(svc_classifier, fichier_modele)\n",
    "    \n",
    "with open('svc_model.joblib', 'wb') as fichier_modele:\n",
    "    joblib.dump(rf_logistic, fichier_modele)"
   ]
  },
  {
   "cell_type": "code",
   "execution_count": 27,
   "metadata": {},
   "outputs": [],
   "source": [
    "# predict_sentiment(model)"
   ]
  },
  {
   "cell_type": "code",
   "execution_count": 28,
   "metadata": {},
   "outputs": [],
   "source": [
    "# predict_sentiment_svc(model)"
   ]
  },
  {
   "cell_type": "code",
   "execution_count": 30,
   "metadata": {
    "id": "qUs3MoV70FMB"
   },
   "outputs": [],
   "source": [
    "# models = [LogisticRegression(random_state=42), DecisionTreeClassifier(criterion='entropy'), RandomForestClassifier(), XGBClassifier()]\n",
    "\n",
    "#for model in models:\n",
    "\n",
    "    #print(f'________________{model}')\n",
    "    #model.fit(X_train, y_train)\n",
    "    #y_pred = model.predict(X_val)\n",
    "    #print(f'Confusion matrix: {confusion_matrix(y_val, y_pred)}')\n",
    "    #print(f'Accuracy : {accuracy_score(y_val, y_pred)}')\n",
    "    #print(f'Classification Report : {classification_report(y_val, y_pred)}')"
   ]
  },
  {
   "cell_type": "code",
   "execution_count": null,
   "metadata": {
    "id": "cJQfJZmE3D4h"
   },
   "outputs": [],
   "source": []
  },
  {
   "cell_type": "code",
   "execution_count": null,
   "metadata": {},
   "outputs": [],
   "source": []
  },
  {
   "cell_type": "code",
   "execution_count": null,
   "metadata": {},
   "outputs": [],
   "source": []
  },
  {
   "cell_type": "code",
   "execution_count": null,
   "metadata": {},
   "outputs": [],
   "source": []
  },
  {
   "cell_type": "code",
   "execution_count": null,
   "metadata": {},
   "outputs": [],
   "source": []
  }
 ],
 "metadata": {
  "colab": {
   "provenance": []
  },
  "kernelspec": {
   "display_name": "Python 3",
   "language": "python",
   "name": "python3"
  },
  "language_info": {
   "codemirror_mode": {
    "name": "ipython",
    "version": 3
   },
   "file_extension": ".py",
   "mimetype": "text/x-python",
   "name": "python",
   "nbconvert_exporter": "python",
   "pygments_lexer": "ipython3",
   "version": "3.8.8"
  }
 },
 "nbformat": 4,
 "nbformat_minor": 1
}
