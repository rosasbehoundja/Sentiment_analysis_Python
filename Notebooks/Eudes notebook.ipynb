{
 "cells": [
  {
   "cell_type": "code",
   "execution_count": 1,
   "id": "e19e8cdd",
   "metadata": {},
   "outputs": [],
   "source": [
    "import pandas as pd\n",
    "import matplotlib.pyplot as plt\n",
    "import seaborn as sns\n",
    "import numpy as np"
   ]
  },
  {
   "cell_type": "code",
   "execution_count": 3,
   "id": "1f0e5ef0",
   "metadata": {},
   "outputs": [
    {
     "data": {
      "text/html": [
       "<div>\n",
       "<style scoped>\n",
       "    .dataframe tbody tr th:only-of-type {\n",
       "        vertical-align: middle;\n",
       "    }\n",
       "\n",
       "    .dataframe tbody tr th {\n",
       "        vertical-align: top;\n",
       "    }\n",
       "\n",
       "    .dataframe thead th {\n",
       "        text-align: right;\n",
       "    }\n",
       "</style>\n",
       "<table border=\"1\" class=\"dataframe\">\n",
       "  <thead>\n",
       "    <tr style=\"text-align: right;\">\n",
       "      <th></th>\n",
       "      <th>text</th>\n",
       "      <th>label</th>\n",
       "    </tr>\n",
       "  </thead>\n",
       "  <tbody>\n",
       "    <tr>\n",
       "      <th>0</th>\n",
       "      <td>i didnt feel humiliated</td>\n",
       "      <td>0</td>\n",
       "    </tr>\n",
       "    <tr>\n",
       "      <th>1</th>\n",
       "      <td>i can go from feeling so hopeless to so damned...</td>\n",
       "      <td>0</td>\n",
       "    </tr>\n",
       "    <tr>\n",
       "      <th>2</th>\n",
       "      <td>im grabbing a minute to post i feel greedy wrong</td>\n",
       "      <td>3</td>\n",
       "    </tr>\n",
       "    <tr>\n",
       "      <th>3</th>\n",
       "      <td>i am ever feeling nostalgic about the fireplac...</td>\n",
       "      <td>1</td>\n",
       "    </tr>\n",
       "    <tr>\n",
       "      <th>4</th>\n",
       "      <td>i am feeling grouchy</td>\n",
       "      <td>3</td>\n",
       "    </tr>\n",
       "    <tr>\n",
       "      <th>...</th>\n",
       "      <td>...</td>\n",
       "      <td>...</td>\n",
       "    </tr>\n",
       "    <tr>\n",
       "      <th>24033</th>\n",
       "      <td>All that remains is emptiness</td>\n",
       "      <td>0</td>\n",
       "    </tr>\n",
       "    <tr>\n",
       "      <th>24034</th>\n",
       "      <td>This heartache is all I know</td>\n",
       "      <td>0</td>\n",
       "    </tr>\n",
       "    <tr>\n",
       "      <th>24035</th>\n",
       "      <td>I feel marooned in sorrow</td>\n",
       "      <td>0</td>\n",
       "    </tr>\n",
       "    <tr>\n",
       "      <th>24036</th>\n",
       "      <td>I am broken</td>\n",
       "      <td>0</td>\n",
       "    </tr>\n",
       "    <tr>\n",
       "      <th>24037</th>\n",
       "      <td>I feel like Iâ€™m on the brink of catastrophe</td>\n",
       "      <td>4</td>\n",
       "    </tr>\n",
       "  </tbody>\n",
       "</table>\n",
       "<p>24038 rows × 2 columns</p>\n",
       "</div>"
      ],
      "text/plain": [
       "                                                    text  label\n",
       "0                                i didnt feel humiliated      0\n",
       "1      i can go from feeling so hopeless to so damned...      0\n",
       "2       im grabbing a minute to post i feel greedy wrong      3\n",
       "3      i am ever feeling nostalgic about the fireplac...      1\n",
       "4                                   i am feeling grouchy      3\n",
       "...                                                  ...    ...\n",
       "24033                      All that remains is emptiness      0\n",
       "24034                       This heartache is all I know      0\n",
       "24035                          I feel marooned in sorrow      0\n",
       "24036                                        I am broken      0\n",
       "24037      I feel like Iâ€™m on the brink of catastrophe      4\n",
       "\n",
       "[24038 rows x 2 columns]"
      ]
     },
     "execution_count": 3,
     "metadata": {},
     "output_type": "execute_result"
    }
   ],
   "source": [
    "data = pd.read_csv(\"../Datasets/new_data.csv\")\n",
    "data = data.drop('Unnamed: 0', axis=1)\n",
    "data"
   ]
  },
  {
   "cell_type": "code",
   "execution_count": 4,
   "id": "e48f9f48",
   "metadata": {},
   "outputs": [
    {
     "data": {
      "text/plain": [
       "array([0, 3, 1, 4], dtype=int64)"
      ]
     },
     "execution_count": 4,
     "metadata": {},
     "output_type": "execute_result"
    }
   ],
   "source": [
    "data.label.unique()"
   ]
  },
  {
   "cell_type": "code",
   "execution_count": 5,
   "id": "0116200f",
   "metadata": {},
   "outputs": [
    {
     "data": {
      "image/png": "[encoded data removed]",
      "text/plain": [
       "<Figure size 432x288 with 1 Axes>"
      ]
     },
     "metadata": {
      "needs_background": "light"
     },
     "output_type": "display_data"
    }
   ],
   "source": [
    "sns.countplot(x='label', data=data)\n",
    "plt.title('Distribution des Sentiments')\n",
    "plt.show()"
   ]
  },
  {
   "cell_type": "markdown",
   "id": "fc70aa64",
   "metadata": {},
   "source": [
    "### 2- Nettoyage de texte\n",
    "\n",
    "Nettoyez les phrases en enlevant les stopwords, ponctuations, et en lemmatisant/stemmatizing les mots pour uniformiser le texte."
   ]
  },
  {
   "cell_type": "code",
   "execution_count": 8,
   "id": "be30d431",
   "metadata": {},
   "outputs": [],
   "source": [
    "import nltk\n",
    "from nltk.corpus import stopwords\n",
    "from nltk.tokenize import word_tokenize\n",
    "from nltk.stem import WordNetLemmatizer\n",
    "import string\n",
    "\n",
    "nltk.download('stopwords')\n",
    "nltk.download('punkt')\n",
    "nltk.download('wordnet')"
   ]
  },
  {
   "cell_type": "code",
   "execution_count": 12,
   "id": "c28d0001",
   "metadata": {},
   "outputs": [],
   "source": [
    "\n",
    "# Obtenir la liste des stopwords\n",
    "stop_words = set(stopwords.words('english'))\n",
    "\n",
    "# Liste des mots de négation à conserver\n",
    "negation_words = {\n",
    "    \"no\", \"not\", \"never\", \"none\", \"nobody\", \"nothing\", \"neither\", \"nowhere\", \n",
    "    \"doesn't\", \"isn't\", \"wasn't\", \"shouldn't\", \"wouldn't\", \"couldn't\", \n",
    "    \"won't\", \"can't\", \"don't\", \"didn't\",\n",
    "    \"doesnt\", \"isnt\", \"wasnt\", \"shouldnt\", \"wouldnt\", \"couldnt\", \n",
    "    \"wont\", \"cant\", \"dont\", \"didnt\",\n",
    "    \"doesn\", \"isn\", \"wasn\", \"shouldn\", \"wouldn\", \"couldn\", \n",
    "    \"will not\", \"can t\", \"don t\", \"didn t\",\n",
    "    \"doesn t\", \"isn t\", \"wasn t\", \"shouldn t\", \"wouldn t\", \"couldn t\"\n",
    "}\n",
    "\n",
    "# Retirer les mots de négation de la liste des stopwords\n",
    "custom_stop_words = stop_words - negation_words\n",
    "\n",
    "lemmatizer = WordNetLemmatizer()\n",
    "\n",
    "def preprocess_text(text):\n",
    "    # Convertir en minuscules\n",
    "    text = text.lower()\n",
    "    \n",
    "    # Enlever la ponctuation\n",
    "    text = text.translate(str.maketrans('', '', string.punctuation))\n",
    "    \n",
    "    # Tokenisation\n",
    "    words = word_tokenize(text)\n",
    "    words = [word for word in words if word not in ['feel', 'feeling']]\n",
    "    \n",
    "    # Enlever les stopwords personnalisés et lemmatiser\n",
    "    words = [lemmatizer.lemmatize(word) for word in words if word not in custom_stop_words]\n",
    "    \n",
    "    # Retourner la liste de mots au lieu d'une chaîne de caractères\n",
    "    #return words\n",
    "    return ' '.join(words)\n"
   ]
  },
  {
   "cell_type": "code",
   "execution_count": 13,
   "id": "263b7362",
   "metadata": {},
   "outputs": [],
   "source": [
    "data['cleaned_text'] = data['text'].apply(preprocess_text)"
   ]
  },
  {
   "cell_type": "code",
   "execution_count": 14,
   "id": "0df173c2",
   "metadata": {},
   "outputs": [
    {
     "data": {
      "text/html": [
       "<div>\n",
       "<style scoped>\n",
       "    .dataframe tbody tr th:only-of-type {\n",
       "        vertical-align: middle;\n",
       "    }\n",
       "\n",
       "    .dataframe tbody tr th {\n",
       "        vertical-align: top;\n",
       "    }\n",
       "\n",
       "    .dataframe thead th {\n",
       "        text-align: right;\n",
       "    }\n",
       "</style>\n",
       "<table border=\"1\" class=\"dataframe\">\n",
       "  <thead>\n",
       "    <tr style=\"text-align: right;\">\n",
       "      <th></th>\n",
       "      <th>text</th>\n",
       "      <th>label</th>\n",
       "      <th>cleaned_text</th>\n",
       "    </tr>\n",
       "  </thead>\n",
       "  <tbody>\n",
       "    <tr>\n",
       "      <th>0</th>\n",
       "      <td>i didnt feel humiliated</td>\n",
       "      <td>0</td>\n",
       "      <td>didnt humiliated</td>\n",
       "    </tr>\n",
       "    <tr>\n",
       "      <th>1</th>\n",
       "      <td>i can go from feeling so hopeless to so damned...</td>\n",
       "      <td>0</td>\n",
       "      <td>go hopeless damned hopeful around someone care...</td>\n",
       "    </tr>\n",
       "    <tr>\n",
       "      <th>2</th>\n",
       "      <td>im grabbing a minute to post i feel greedy wrong</td>\n",
       "      <td>3</td>\n",
       "      <td>im grabbing minute post greedy wrong</td>\n",
       "    </tr>\n",
       "    <tr>\n",
       "      <th>3</th>\n",
       "      <td>i am ever feeling nostalgic about the fireplac...</td>\n",
       "      <td>1</td>\n",
       "      <td>ever nostalgic fireplace know still property</td>\n",
       "    </tr>\n",
       "    <tr>\n",
       "      <th>4</th>\n",
       "      <td>i am feeling grouchy</td>\n",
       "      <td>3</td>\n",
       "      <td>grouchy</td>\n",
       "    </tr>\n",
       "    <tr>\n",
       "      <th>5</th>\n",
       "      <td>ive been feeling a little burdened lately wasn...</td>\n",
       "      <td>0</td>\n",
       "      <td>ive little burdened lately wasnt sure</td>\n",
       "    </tr>\n",
       "    <tr>\n",
       "      <th>6</th>\n",
       "      <td>ive been taking or milligrams or times recomme...</td>\n",
       "      <td>4</td>\n",
       "      <td>ive taking milligram time recommended amount i...</td>\n",
       "    </tr>\n",
       "    <tr>\n",
       "      <th>7</th>\n",
       "      <td>i feel as confused about life as a teenager or...</td>\n",
       "      <td>4</td>\n",
       "      <td>confused life teenager jaded year old man</td>\n",
       "    </tr>\n",
       "    <tr>\n",
       "      <th>8</th>\n",
       "      <td>i have been with petronas for years i feel tha...</td>\n",
       "      <td>1</td>\n",
       "      <td>petronas year petronas performed well made hug...</td>\n",
       "    </tr>\n",
       "    <tr>\n",
       "      <th>9</th>\n",
       "      <td>i feel like i have to make the suffering i m s...</td>\n",
       "      <td>0</td>\n",
       "      <td>like make suffering seeing mean something</td>\n",
       "    </tr>\n",
       "  </tbody>\n",
       "</table>\n",
       "</div>"
      ],
      "text/plain": [
       "                                                text  label  \\\n",
       "0                            i didnt feel humiliated      0   \n",
       "1  i can go from feeling so hopeless to so damned...      0   \n",
       "2   im grabbing a minute to post i feel greedy wrong      3   \n",
       "3  i am ever feeling nostalgic about the fireplac...      1   \n",
       "4                               i am feeling grouchy      3   \n",
       "5  ive been feeling a little burdened lately wasn...      0   \n",
       "6  ive been taking or milligrams or times recomme...      4   \n",
       "7  i feel as confused about life as a teenager or...      4   \n",
       "8  i have been with petronas for years i feel tha...      1   \n",
       "9  i feel like i have to make the suffering i m s...      0   \n",
       "\n",
       "                                        cleaned_text  \n",
       "0                                   didnt humiliated  \n",
       "1  go hopeless damned hopeful around someone care...  \n",
       "2               im grabbing minute post greedy wrong  \n",
       "3       ever nostalgic fireplace know still property  \n",
       "4                                            grouchy  \n",
       "5              ive little burdened lately wasnt sure  \n",
       "6  ive taking milligram time recommended amount i...  \n",
       "7          confused life teenager jaded year old man  \n",
       "8  petronas year petronas performed well made hug...  \n",
       "9          like make suffering seeing mean something  "
      ]
     },
     "execution_count": 14,
     "metadata": {},
     "output_type": "execute_result"
    }
   ],
   "source": [
    "data.head(10)"
   ]
  },
  {
   "cell_type": "code",
   "execution_count": 15,
   "id": "d801d53d",
   "metadata": {},
   "outputs": [],
   "source": [
    "\n",
    "from sklearn.model_selection import train_test_split\n",
    "\n",
    "X = data['cleaned_text']\n",
    "y = data['label']\n",
    "\n",
    "X_train, X_test, y_train, y_test = train_test_split(X, y, test_size=0.2, random_state=42)\n"
   ]
  },
  {
   "cell_type": "markdown",
   "id": "f922157b",
   "metadata": {},
   "source": [
    "## Vectorisation Td Idf"
   ]
  },
  {
   "cell_type": "code",
   "execution_count": 16,
   "id": "c30737b2",
   "metadata": {},
   "outputs": [],
   "source": [
    "from sklearn.feature_extraction.text import TfidfVectorizer\n",
    "\n",
    "vector = TfidfVectorizer(max_features=5000)      # Choisissez le nombre de features approprié\n",
    "\n",
    "X_train = vector.fit_transform(X_train)\n",
    "                                  \n",
    "X_test = vector.transform(X_test)"
   ]
  },
  {
   "cell_type": "markdown",
   "id": "1813aa0c",
   "metadata": {},
   "source": [
    "## Entrainement de modele"
   ]
  },
  {
   "cell_type": "code",
   "execution_count": 1,
   "id": "7c5445a4",
   "metadata": {},
   "outputs": [],
   "source": [
    "from sklearn.linear_model import LogisticRegression\n",
    "from sklearn.model_selection import GridSearchCV\n",
    "from sklearn.metrics import classification_report, accuracy_score"
   ]
  },
  {
   "cell_type": "markdown",
   "id": "03be2cd5",
   "metadata": {},
   "source": [
    "### 1- Naive Bayes\n",
    "Le modèle Naive Bayes Multinomial est souvent utilisé pour des tâches de classification de texte. Pour ce modèle, les principaux hyperparamètres à ajuster sont alpha (paramètre de lissage)."
   ]
  },
  {
   "cell_type": "code",
   "execution_count": null,
   "id": "aec7dc05",
   "metadata": {},
   "outputs": [],
   "source": [
    "# Définition du modèle\n",
    "nb_model = MultinomialNB()\n",
    "\n",
    "# Grille des hyperparamètres\n",
    "nb_params = {\n",
    "    'alpha': [0.1, 0.5, 1.0, 1.5, 2.0],  # Lissage\n",
    "}\n",
    "\n",
    "# GridSearchCV\n",
    "nb_grid = GridSearchCV(estimator=nb_model, param_grid=nb_params, cv=5, scoring='accuracy', n_jobs=-1)\n",
    "nb_grid.fit(X_train_vect, y_train)\n",
    "\n",
    "print(f\"Best Parameters: {nb_grid.best_params_}\")\n",
    "print(f\"Best Score: {nb_grid.best_score_}\")"
   ]
  },
  {
   "cell_type": "code",
   "execution_count": null,
   "id": "77d50bfe",
   "metadata": {},
   "outputs": [],
   "source": [
    "# Choix du modèle\n",
    "model = MultinomialNB()\n",
    "# Entraînement du modèle\n",
    "model.fit(X_train, y_train)"
   ]
  },
  {
   "cell_type": "code",
   "execution_count": null,
   "id": "0826e3f7",
   "metadata": {},
   "outputs": [],
   "source": [
    "# Prédiction\n",
    "y_pred = model.predict(X_test)"
   ]
  },
  {
   "cell_type": "code",
   "execution_count": null,
   "id": "468f38e8",
   "metadata": {},
   "outputs": [],
   "source": [
    "# Évaluation\n",
    "print(classification_report(y_test, y_pred))\n",
    "print(f\"Accuracy: {accuracy_score(y_test, y_pred)}\")"
   ]
  },
  {
   "cell_type": "markdown",
   "id": "d4cabbc0",
   "metadata": {},
   "source": [
    "### 2- Regression Logistique\n",
    "Pour la régression logistique, les hyperparamètres clés sont C (inverse de la régularisation), penalty (type de régularisation), et solver."
   ]
  },
  {
   "cell_type": "code",
   "execution_count": null,
   "id": "bda51f3d",
   "metadata": {},
   "outputs": [],
   "source": [
    "from sklearn.linear_model import LogisticRegression\n",
    "\n",
    "# Définition du modèle\n",
    "lr_model = LogisticRegression(max_iter=1000)\n",
    "\n",
    "# Grille des hyperparamètres\n",
    "lr_params = {\n",
    "    'C': [0.01, 10, 100],  # Paramètre de régularisation\n",
    "    'penalty': ['l2'],             # Pour l2 avec les solveurs ci-dessous\n",
    "    'solver': ['lbfgs', 'saga'],   # Solveurs adaptés à l2 et multi-classes\n",
    "}\n",
    "\n",
    "# GridSearchCV\n",
    "lr_grid = GridSearchCV(estimator=lr_model, param_grid=lr_params, cv=5, scoring='accuracy', n_jobs=-1)\n",
    "lr_grid.fit(X_train, y_train)\n",
    "\n",
    "print(f\"Best Parameters: {lr_grid.best_params_}\")\n",
    "print(f\"Best Score: {lr_grid.best_score_}\")\n"
   ]
  },
  {
   "cell_type": "code",
   "execution_count": null,
   "id": "33261ea0",
   "metadata": {},
   "outputs": [],
   "source": [
    "# Choix du modèle\n",
    "parametre = {'C': 10, 'penalty': 'l2', 'solver': 'saga'}\n",
    "model = LogisticRegression(**parametre)\n",
    "\n",
    "# Entraînement du modèle\n",
    "model.fit(X_train, y_train)"
   ]
  },
  {
   "cell_type": "code",
   "execution_count": null,
   "id": "47cbddb8",
   "metadata": {},
   "outputs": [],
   "source": [
    "\n",
    "# Prédiction\n",
    "y_pred = model.predict(X_test)"
   ]
  },
  {
   "cell_type": "code",
   "execution_count": null,
   "id": "306524b5",
   "metadata": {},
   "outputs": [],
   "source": [
    "\n",
    "# Évaluation\n",
    "print(classification_report(y_test, y_pred))\n",
    "print(f\"Accuracy: {accuracy_score(y_test, y_pred)}\")"
   ]
  },
  {
   "cell_type": "markdown",
   "id": "0cbc9a99",
   "metadata": {},
   "source": [
    "### 3. Support Vector Machine (SVM)\n",
    "Pour les SVM, les hyperparamètres les plus importants sont\n",
    "\n",
    "- C (paramètre de régularisation),\n",
    "- kernel (type de noyau),\n",
    "- et gamma (coefficient du noyau pour 'rbf' et 'poly')."
   ]
  },
  {
   "cell_type": "code",
   "execution_count": null,
   "id": "92e51e0f",
   "metadata": {},
   "outputs": [],
   "source": [
    "from sklearn.svm import SVC\n",
    "\n",
    "# Définition du modèle\n",
    "svm_model = SVC()\n",
    "\n",
    "# Grille des hyperparamètres\n",
    "svm_params = {\n",
    "    'C': [0.1, 1, 10, 100],        # Régularisation\n",
    "    'kernel': ['linear', 'rbf', 'poly'],  # Types de noyaux\n",
    "    'gamma': ['scale', 'auto'],    # Gamma pour les noyaux rbf et poly\n",
    "    'degree': [2, 3, 4] \n",
    "}\n",
    "\n",
    "# GridSearchCV\n",
    "svm_grid = GridSearchCV(estimator=svm_model, param_grid=svm_params, cv=5, scoring='accuracy', n_jobs=-1)\n",
    "svm_grid.fit(X_train, y_train)\n",
    "\n",
    "print(f\"Best Parameters: {svm_grid.best_params_}\")\n",
    "print(f\"Best Score: {svm_grid.best_score_}\")"
   ]
  },
  {
   "cell_type": "code",
   "execution_count": null,
   "id": "ec6ad735",
   "metadata": {},
   "outputs": [],
   "source": [
    "# Choix du modèle\n",
    "parametre = {'C': 1, 'degree': 2, 'gamma': 'scale', 'kernel': 'linear'}\n",
    "modele_svc = SVC(**parametre)\n",
    "\n",
    "# Entraînement du modèle\n",
    "modele_svc.fit(X_train, y_train)"
   ]
  },
  {
   "cell_type": "code",
   "execution_count": null,
   "id": "608dfd87",
   "metadata": {},
   "outputs": [],
   "source": [
    "\n",
    "# Prédiction\n",
    "y_predict = modele_svc.predict(X_test)"
   ]
  },
  {
   "cell_type": "code",
   "execution_count": null,
   "id": "56716bb6",
   "metadata": {},
   "outputs": [],
   "source": [
    "\n",
    "# Évaluation\n",
    "print(classification_report(y_test, y_predict))\n",
    "print(f\"Accuracy: {accuracy_score(y_test, y_predict)}\")"
   ]
  },
  {
   "cell_type": "code",
   "execution_count": null,
   "id": "bfd8f2ff",
   "metadata": {},
   "outputs": [],
   "source": [
    "import joblib\n",
    "\n",
    "with open('vector.joblib', 'wb') as fichier_modele:\n",
    "    joblib.dump(vector, fichier_modele)\n",
    "    \n",
    "with open('svc_model.joblib', 'wb') as fichier_modele:\n",
    "    joblib.dump(modele_svc, fichier_modele)"
   ]
  }
 ],
 "metadata": {
  "kernelspec": {
   "display_name": "Python 3",
   "language": "python",
   "name": "python3"
  },
  "language_info": {
   "codemirror_mode": {
    "name": "ipython",
    "version": 3
   },
   "file_extension": ".py",
   "mimetype": "text/x-python",
   "name": "python",
   "nbconvert_exporter": "python",
   "pygments_lexer": "ipython3",
   "version": "3.8.8"
  }
 },
 "nbformat": 4,
 "nbformat_minor": 5
}
