{
<<<<<<< HEAD
  "cells": [
    {
      "cell_type": "code",
      "execution_count": 1,
      "metadata": {
        "id": "SpvFmszjAQUd"
      },
      "outputs": [],
      "source": [
        "import numpy as np\n",
        "import pandas as pd\n",
        "import matplotlib.pyplot as plt\n",
        "import seaborn as sns"
      ]
    },
    {
      "cell_type": "code",
      "execution_count": 2,
      "metadata": {
        "id": "G2rL7eNqA-wE"
      },
      "outputs": [],
      "source": [
        "train = pd.read_csv(\"Datasets/training.csv\")\n",
        "test = pd.read_csv('Datasets/test.csv')\n",
        "validation = pd.read_csv('Datasets/validation.csv')"
      ]
    },
    {
      "cell_type": "markdown",
      "metadata": {
        "id": "iGqFWcvVZl4E"
      },
      "source": [
        "Labels :\n",
        "\n",
        "  * 0 = sadness\n",
        "  * 1 = joy\n",
        "  * 2 = love\n",
        "  * 3 = anger\n",
        "  * 4 = fear\n",
        "  * 5 = surprise"
      ]
    },
    {
      "cell_type": "code",
      "execution_count": 3,
      "metadata": {
        "colab": {
          "base_uri": "https://localhost:8080/",
          "height": 226
        },
        "id": "2gpzz_yAZbCK",
        "outputId": "27a4e0b2-c616-4254-8fc8-bc00fc485918"
      },
      "outputs": [
        {
          "data": {
            "text/html": [
              "<div>\n",
              "<style scoped>\n",
              "    .dataframe tbody tr th:only-of-type {\n",
              "        vertical-align: middle;\n",
              "    }\n",
              "\n",
              "    .dataframe tbody tr th {\n",
              "        vertical-align: top;\n",
              "    }\n",
              "\n",
              "    .dataframe thead th {\n",
              "        text-align: right;\n",
              "    }\n",
              "</style>\n",
              "<table border=\"1\" class=\"dataframe\">\n",
              "  <thead>\n",
              "    <tr style=\"text-align: right;\">\n",
              "      <th></th>\n",
              "      <th>text</th>\n",
              "      <th>label</th>\n",
              "    </tr>\n",
              "  </thead>\n",
              "  <tbody>\n",
              "    <tr>\n",
              "      <th>0</th>\n",
              "      <td>i didnt feel humiliated</td>\n",
              "      <td>0</td>\n",
              "    </tr>\n",
              "    <tr>\n",
              "      <th>1</th>\n",
              "      <td>i can go from feeling so hopeless to so damned...</td>\n",
              "      <td>0</td>\n",
              "    </tr>\n",
              "    <tr>\n",
              "      <th>2</th>\n",
              "      <td>im grabbing a minute to post i feel greedy wrong</td>\n",
              "      <td>3</td>\n",
              "    </tr>\n",
              "    <tr>\n",
              "      <th>3</th>\n",
              "      <td>i am ever feeling nostalgic about the fireplac...</td>\n",
              "      <td>2</td>\n",
              "    </tr>\n",
              "    <tr>\n",
              "      <th>4</th>\n",
              "      <td>i am feeling grouchy</td>\n",
              "      <td>3</td>\n",
              "    </tr>\n",
              "  </tbody>\n",
              "</table>\n",
              "</div>"
            ],
            "text/plain": [
              "                                                text  label\n",
              "0                            i didnt feel humiliated      0\n",
              "1  i can go from feeling so hopeless to so damned...      0\n",
              "2   im grabbing a minute to post i feel greedy wrong      3\n",
              "3  i am ever feeling nostalgic about the fireplac...      2\n",
              "4                               i am feeling grouchy      3"
            ]
          },
          "execution_count": 3,
          "metadata": {},
          "output_type": "execute_result"
        }
      ],
      "source": [
        "train.head()"
      ]
    },
    {
      "cell_type": "code",
      "execution_count": 4,
      "metadata": {
        "colab": {
          "base_uri": "https://localhost:8080/"
        },
        "id": "spNo9WVcZ4TL",
        "outputId": "5ac99889-f432-4679-eec5-53a5c8db5647"
      },
      "outputs": [
        {
          "name": "stdout",
          "output_type": "stream",
          "text": [
            "<class 'pandas.core.frame.DataFrame'>\n",
            "RangeIndex: 16000 entries, 0 to 15999\n",
            "Data columns (total 2 columns):\n",
            " #   Column  Non-Null Count  Dtype \n",
            "---  ------  --------------  ----- \n",
            " 0   text    16000 non-null  object\n",
            " 1   label   16000 non-null  int64 \n",
            "dtypes: int64(1), object(1)\n",
            "memory usage: 250.1+ KB\n"
          ]
        }
      ],
      "source": [
        "train.info()"
      ]
    },
    {
      "cell_type": "code",
      "execution_count": 5,
      "metadata": {
        "colab": {
          "base_uri": "https://localhost:8080/"
        },
        "id": "7F34X9gvaHNF",
        "outputId": "23a2df29-677a-450f-9da8-90a2db179ec3"
      },
      "outputs": [
        {
          "name": "stdout",
          "output_type": "stream",
          "text": [
            "<class 'pandas.core.frame.DataFrame'>\n",
            "RangeIndex: 2000 entries, 0 to 1999\n",
            "Data columns (total 2 columns):\n",
            " #   Column  Non-Null Count  Dtype \n",
            "---  ------  --------------  ----- \n",
            " 0   text    2000 non-null   object\n",
            " 1   label   2000 non-null   int64 \n",
            "dtypes: int64(1), object(1)\n",
            "memory usage: 31.4+ KB\n"
          ]
        }
      ],
      "source": [
        "validation.info()"
      ]
    },
    {
      "cell_type": "code",
      "execution_count": 6,
      "metadata": {
        "colab": {
          "base_uri": "https://localhost:8080/"
        },
        "id": "SGF4LqLxaM9l",
        "outputId": "fb88477f-eb6d-4dcb-c24f-a8a8348fb437"
      },
      "outputs": [
        {
          "name": "stdout",
          "output_type": "stream",
          "text": [
            "<class 'pandas.core.frame.DataFrame'>\n",
            "RangeIndex: 2000 entries, 0 to 1999\n",
            "Data columns (total 2 columns):\n",
            " #   Column  Non-Null Count  Dtype \n",
            "---  ------  --------------  ----- \n",
            " 0   text    2000 non-null   object\n",
            " 1   label   2000 non-null   int64 \n",
            "dtypes: int64(1), object(1)\n",
            "memory usage: 31.4+ KB\n"
          ]
        }
      ],
      "source": [
        "test.info()"
      ]
    },
    {
      "cell_type": "code",
      "execution_count": 7,
      "metadata": {},
      "outputs": [],
      "source": [
        "def replace_label(df):\n",
        "    df['label'] = df['label'].replace({0: 0, 1: 1, 2: 1, 3: 3, 4: 4, 5: 3}) "
      ]
    },
    {
      "cell_type": "markdown",
      "metadata": {},
      "source": [
        "0 = sadness\n",
        "1 = joy or love\n",
        "3 = confus\n",
        "4 = peur"
      ]
    },
    {
      "cell_type": "code",
      "execution_count": 8,
      "metadata": {},
      "outputs": [],
      "source": [
        "replace_label(train)\n",
        "replace_label(test)\n",
        "replace_label(validation)"
      ]
    },
    {
      "cell_type": "markdown",
      "metadata": {
        "id": "lsOsNHBTa-tC"
      },
      "source": [
        "## Visualisation"
      ]
    },
    {
      "cell_type": "code",
      "execution_count": 9,
      "metadata": {
        "colab": {
          "base_uri": "https://localhost:8080/",
          "height": 487
        },
        "id": "wyN7RDVraZWD",
        "outputId": "6dbea7b5-d18f-4ac7-c228-04c7ef4259f0"
      },
      "outputs": [
        {
          "data": {
            "text/plain": [
              "<Axes: xlabel='label', ylabel='count'>"
            ]
          },
          "execution_count": 9,
          "metadata": {},
          "output_type": "execute_result"
        },
        {
          "data": {
            "image/png": "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",
            "text/plain": [
              "<Figure size 640x480 with 1 Axes>"
            ]
          },
          "metadata": {},
          "output_type": "display_data"
        }
      ],
      "source": [
        "sns.countplot(x='label',data=train)"
      ]
    },
    {
      "cell_type": "code",
      "execution_count": 10,
      "metadata": {
        "colab": {
          "base_uri": "https://localhost:8080/",
          "height": 487
        },
        "id": "UDqsGendav53",
        "outputId": "772eb8bc-d778-4069-880b-290461a13652"
      },
      "outputs": [
        {
          "data": {
            "text/plain": [
              "<Axes: xlabel='label', ylabel='count'>"
            ]
          },
          "execution_count": 10,
          "metadata": {},
          "output_type": "execute_result"
        },
        {
          "data": {
            "image/png": "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",
            "text/plain": [
              "<Figure size 640x480 with 1 Axes>"
            ]
          },
          "metadata": {},
          "output_type": "display_data"
        }
      ],
      "source": [
        "sns.countplot(x='label',data=test)"
      ]
    },
    {
      "cell_type": "code",
      "execution_count": 11,
      "metadata": {
        "colab": {
          "base_uri": "https://localhost:8080/",
          "height": 487
        },
        "id": "EojaryCHa3Mx",
        "outputId": "551b2026-3821-4bc6-f38d-d2b53888464f"
      },
      "outputs": [
        {
          "data": {
            "text/plain": [
              "<Axes: xlabel='label', ylabel='count'>"
            ]
          },
          "execution_count": 11,
          "metadata": {},
          "output_type": "execute_result"
        },
        {
          "data": {
            "image/png": "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",
            "text/plain": [
              "<Figure size 640x480 with 1 Axes>"
            ]
          },
          "metadata": {},
          "output_type": "display_data"
        }
      ],
      "source": [
        "sns.countplot(x='label',data=validation)"
      ]
    },
    {
      "cell_type": "markdown",
      "metadata": {
        "id": "PA7rGdD8bMq7"
      },
      "source": [
        "On peut conclure que la répartitions des données par catégories est semblable pour tous les datasets sachant qu'il y a une prédominance des données de catégories 0 et 1."
      ]
    },
    {
      "cell_type": "markdown",
      "metadata": {
        "id": "41I8dzDpbyKe"
      },
      "source": [
        "## Data Preprocessing"
      ]
    },
    {
      "cell_type": "code",
      "execution_count": 12,
      "metadata": {
        "colab": {
          "base_uri": "https://localhost:8080/"
        },
        "id": "43Ub-ZHAa5Zl",
        "outputId": "f080b91c-c095-4cc2-9ef9-8b520b2accb4"
      },
      "outputs": [
        {
          "name": "stderr",
          "output_type": "stream",
          "text": [
            "[nltk_data] Downloading package stopwords to\n",
            "[nltk_data]     C:\\Users\\perri\\AppData\\Roaming\\nltk_data...\n",
            "[nltk_data]   Package stopwords is already up-to-date!\n",
            "[nltk_data] Downloading package punkt to\n",
            "[nltk_data]     C:\\Users\\perri\\AppData\\Roaming\\nltk_data...\n",
            "[nltk_data]   Package punkt is already up-to-date!\n"
          ]
        },
        {
          "data": {
            "text/plain": [
              "True"
            ]
          },
          "execution_count": 12,
          "metadata": {},
          "output_type": "execute_result"
        }
      ],
      "source": [
        "import re\n",
        "import nltk\n",
        "nltk.download('stopwords')\n",
        "from nltk.corpus import stopwords\n",
        "from nltk.tokenize import word_tokenize\n",
        "from nltk.stem import WordNetLemmatizer\n",
        "# \n",
        "nltk.download('punkt')"
      ]
    },
    {
      "cell_type": "code",
      "execution_count": 13,
      "metadata": {},
      "outputs": [
        {
          "name": "stderr",
          "output_type": "stream",
          "text": [
            "[nltk_data] Downloading package wordnet to\n",
            "[nltk_data]     C:\\Users\\perri\\AppData\\Roaming\\nltk_data...\n",
            "[nltk_data]   Package wordnet is already up-to-date!\n"
          ]
        },
        {
          "data": {
            "text/plain": [
              "True"
            ]
          },
          "execution_count": 13,
          "metadata": {},
          "output_type": "execute_result"
        }
      ],
      "source": [
        "nltk.download('wordnet')"
      ]
    },
    {
      "cell_type": "code",
      "execution_count": 14,
      "metadata": {},
      "outputs": [
        {
          "name": "stderr",
          "output_type": "stream",
          "text": [
            "[nltk_data] Downloading package punkt_tab to\n",
            "[nltk_data]     C:\\Users\\perri\\AppData\\Roaming\\nltk_data...\n",
            "[nltk_data]   Package punkt_tab is already up-to-date!\n"
          ]
        },
        {
          "data": {
            "text/plain": [
              "True"
            ]
          },
          "execution_count": 14,
          "metadata": {},
          "output_type": "execute_result"
        }
      ],
      "source": [
        "nltk.download('punkt_tab')"
      ]
    },
    {
      "cell_type": "code",
      "execution_count": 15,
      "metadata": {
        "id": "qsppDMJvghRH"
      },
      "outputs": [],
      "source": [
        "def preprocess_text(text):\n",
        "    tokens = word_tokenize(text.lower())\n",
        "    tokens = [token for token in tokens if token not in ['feel', 'feeling']]\n",
        "    filtered_tokens = [token for token in tokens if token not in stopwords.words('english')]\n",
        "    lemmatizer = WordNetLemmatizer()\n",
        "    lemmatized_tokens = [str(lemmatizer.lemmatize(token)) for token in filtered_tokens]\n",
        "    return lemmatized_tokens"
      ]
    },
    {
      "cell_type": "code",
      "execution_count": 16,
      "metadata": {},
      "outputs": [],
      "source": [
        "train['text'] = train['text'].apply(preprocess_text)"
      ]
    },
    {
      "cell_type": "code",
      "execution_count": 17,
      "metadata": {
        "id": "61pmXFV7hpte"
      },
      "outputs": [],
      "source": [
        "test['text'] = test['text'].apply(preprocess_text)\n",
        "validation['text'] = validation['text'].apply(preprocess_text)"
      ]
    },
    {
      "cell_type": "code",
      "execution_count": 18,
      "metadata": {},
      "outputs": [
        {
          "name": "stdout",
          "output_type": "stream",
          "text": [
            "['didnt', 'humiliated']\n"
          ]
        }
      ],
      "source": [
        "\n",
        "print(train.text.iloc[0])"
      ]
    },
    {
      "cell_type": "code",
      "execution_count": 19,
      "metadata": {
        "colab": {
          "base_uri": "https://localhost:8080/",
          "height": 226
        },
        "id": "fKBs2FEQivPN",
        "outputId": "0704057f-dafb-4489-a5e4-961669a13091"
      },
      "outputs": [
        {
          "data": {
            "text/html": [
              "<div>\n",
              "<style scoped>\n",
              "    .dataframe tbody tr th:only-of-type {\n",
              "        vertical-align: middle;\n",
              "    }\n",
              "\n",
              "    .dataframe tbody tr th {\n",
              "        vertical-align: top;\n",
              "    }\n",
              "\n",
              "    .dataframe thead th {\n",
              "        text-align: right;\n",
              "    }\n",
              "</style>\n",
              "<table border=\"1\" class=\"dataframe\">\n",
              "  <thead>\n",
              "    <tr style=\"text-align: right;\">\n",
              "      <th></th>\n",
              "      <th>text</th>\n",
              "      <th>label</th>\n",
              "    </tr>\n",
              "  </thead>\n",
              "  <tbody>\n",
              "    <tr>\n",
              "      <th>0</th>\n",
              "      <td>[didnt, humiliated]</td>\n",
              "      <td>0</td>\n",
              "    </tr>\n",
              "    <tr>\n",
              "      <th>1</th>\n",
              "      <td>[go, hopeless, damned, hopeful, around, someon...</td>\n",
              "      <td>0</td>\n",
              "    </tr>\n",
              "    <tr>\n",
              "      <th>2</th>\n",
              "      <td>[im, grabbing, minute, post, greedy, wrong]</td>\n",
              "      <td>3</td>\n",
              "    </tr>\n",
              "    <tr>\n",
              "      <th>3</th>\n",
              "      <td>[ever, nostalgic, fireplace, know, still, prop...</td>\n",
              "      <td>1</td>\n",
              "    </tr>\n",
              "    <tr>\n",
              "      <th>4</th>\n",
              "      <td>[grouchy]</td>\n",
              "      <td>3</td>\n",
              "    </tr>\n",
              "  </tbody>\n",
              "</table>\n",
              "</div>"
            ],
            "text/plain": [
              "                                                text  label\n",
              "0                                [didnt, humiliated]      0\n",
              "1  [go, hopeless, damned, hopeful, around, someon...      0\n",
              "2        [im, grabbing, minute, post, greedy, wrong]      3\n",
              "3  [ever, nostalgic, fireplace, know, still, prop...      1\n",
              "4                                          [grouchy]      3"
            ]
          },
          "execution_count": 19,
          "metadata": {},
          "output_type": "execute_result"
        }
      ],
      "source": [
        "train.head()"
      ]
    },
    {
      "cell_type": "code",
      "execution_count": 20,
      "metadata": {
        "colab": {
          "base_uri": "https://localhost:8080/",
          "height": 226
        },
        "id": "t9mVyRA5i1Sn",
        "outputId": "50bc58e5-1084-4e4b-c131-9b8dc5f2ace4"
      },
      "outputs": [
        {
          "data": {
            "text/html": [
              "<div>\n",
              "<style scoped>\n",
              "    .dataframe tbody tr th:only-of-type {\n",
              "        vertical-align: middle;\n",
              "    }\n",
              "\n",
              "    .dataframe tbody tr th {\n",
              "        vertical-align: top;\n",
              "    }\n",
              "\n",
              "    .dataframe thead th {\n",
              "        text-align: right;\n",
              "    }\n",
              "</style>\n",
              "<table border=\"1\" class=\"dataframe\">\n",
              "  <thead>\n",
              "    <tr style=\"text-align: right;\">\n",
              "      <th></th>\n",
              "      <th>text</th>\n",
              "      <th>label</th>\n",
              "    </tr>\n",
              "  </thead>\n",
              "  <tbody>\n",
              "    <tr>\n",
              "      <th>0</th>\n",
              "      <td>[im, rather, rotten, im, ambitious, right]</td>\n",
              "      <td>0</td>\n",
              "    </tr>\n",
              "    <tr>\n",
              "      <th>1</th>\n",
              "      <td>[im, updating, blog, shitty]</td>\n",
              "      <td>0</td>\n",
              "    </tr>\n",
              "    <tr>\n",
              "      <th>2</th>\n",
              "      <td>[never, make, separate, ever, want, like, asha...</td>\n",
              "      <td>0</td>\n",
              "    </tr>\n",
              "    <tr>\n",
              "      <th>3</th>\n",
              "      <td>[left, bouquet, red, yellow, tulip, arm, sligh...</td>\n",
              "      <td>1</td>\n",
              "    </tr>\n",
              "    <tr>\n",
              "      <th>4</th>\n",
              "      <td>[little, vain, one]</td>\n",
              "      <td>0</td>\n",
              "    </tr>\n",
              "  </tbody>\n",
              "</table>\n",
              "</div>"
            ],
            "text/plain": [
              "                                                text  label\n",
              "0         [im, rather, rotten, im, ambitious, right]      0\n",
              "1                       [im, updating, blog, shitty]      0\n",
              "2  [never, make, separate, ever, want, like, asha...      0\n",
              "3  [left, bouquet, red, yellow, tulip, arm, sligh...      1\n",
              "4                                [little, vain, one]      0"
            ]
          },
          "execution_count": 20,
          "metadata": {},
          "output_type": "execute_result"
        }
      ],
      "source": [
        "test.head()"
      ]
    },
    {
      "cell_type": "code",
      "execution_count": 21,
      "metadata": {
        "colab": {
          "base_uri": "https://localhost:8080/",
          "height": 226
        },
        "id": "O7GN4g2wkpzU",
        "outputId": "5cbf5776-bd5c-4ebc-ccc2-0155e5f041d4"
      },
      "outputs": [
        {
          "data": {
            "text/html": [
              "<div>\n",
              "<style scoped>\n",
              "    .dataframe tbody tr th:only-of-type {\n",
              "        vertical-align: middle;\n",
              "    }\n",
              "\n",
              "    .dataframe tbody tr th {\n",
              "        vertical-align: top;\n",
              "    }\n",
              "\n",
              "    .dataframe thead th {\n",
              "        text-align: right;\n",
              "    }\n",
              "</style>\n",
              "<table border=\"1\" class=\"dataframe\">\n",
              "  <thead>\n",
              "    <tr style=\"text-align: right;\">\n",
              "      <th></th>\n",
              "      <th>text</th>\n",
              "      <th>label</th>\n",
              "    </tr>\n",
              "  </thead>\n",
              "  <tbody>\n",
              "    <tr>\n",
              "      <th>0</th>\n",
              "      <td>[im, quite, sad, sorry, ill, snap, soon]</td>\n",
              "      <td>0</td>\n",
              "    </tr>\n",
              "    <tr>\n",
              "      <th>1</th>\n",
              "      <td>[like, still, looking, blank, canvas, blank, p...</td>\n",
              "      <td>0</td>\n",
              "    </tr>\n",
              "    <tr>\n",
              "      <th>2</th>\n",
              "      <td>[like, faithful, servant]</td>\n",
              "      <td>1</td>\n",
              "    </tr>\n",
              "    <tr>\n",
              "      <th>3</th>\n",
              "      <td>[cranky, blue]</td>\n",
              "      <td>3</td>\n",
              "    </tr>\n",
              "    <tr>\n",
              "      <th>4</th>\n",
              "      <td>[treat, festive]</td>\n",
              "      <td>1</td>\n",
              "    </tr>\n",
              "  </tbody>\n",
              "</table>\n",
              "</div>"
            ],
            "text/plain": [
              "                                                text  label\n",
              "0           [im, quite, sad, sorry, ill, snap, soon]      0\n",
              "1  [like, still, looking, blank, canvas, blank, p...      0\n",
              "2                          [like, faithful, servant]      1\n",
              "3                                     [cranky, blue]      3\n",
              "4                                   [treat, festive]      1"
            ]
          },
          "execution_count": 21,
          "metadata": {},
          "output_type": "execute_result"
        }
      ],
      "source": [
        "validation.head()"
      ]
    },
    {
      "cell_type": "code",
      "execution_count": 22,
      "metadata": {
        "id": "K43H6gYYo_-h"
      },
      "outputs": [
        {
          "name": "stdout",
          "output_type": "stream",
          "text": [
            "[('letting', 0.1859685480594635), ('long', 0.17478276789188385), ('side', 0.17138169705867767), ('mother', 0.16171878576278687), ('ungrateful', 0.16010989248752594), ('mine', 0.15443263947963715), ('guilty', 0.15134277939796448), ('sincere', 0.14807595312595367), ('abused', 0.1477954089641571), ('father', 0.143548384308815)]\n"
          ]
        }
      ],
      "source": [
        "from gensim.models import Word2Vec\n",
        "\n",
        "model = Word2Vec(sentences=train['text'], min_count=25, vector_size=600, window=8, workers=10, epochs=100)\n",
        "model.train(train['text'], total_examples=len(train['text']), epochs=100)\n",
        "print(model.wv.most_similar('god'))"
      ]
    },
    {
      "cell_type": "code",
      "execution_count": 23,
      "metadata": {},
      "outputs": [],
      "source": [
        "def vectorize_text(text, model):\n",
        "    word_vectors = [model.wv[word] for word in text if word in model.wv]\n",
        "    if len(word_vectors) > 0:\n",
        "        return np.mean(word_vectors, axis=0)\n",
        "    else:\n",
        "        return np.zeros(model.vector_size)\n",
        "    \n",
        "train_vectors = train['text'].apply(lambda x: vectorize_text(x, model))\n",
        "test_vectors = test['text'].apply(lambda x: vectorize_text(x, model))\n",
        "validation_vectors = validation['text'].apply(lambda x: vectorize_text(x, model))\n",
        "\n",
        "X_train = np.vstack(train_vectors)\n",
        "X_test = np.vstack(test_vectors)\n",
        "X_validation = np.vstack(validation_vectors)\n",
        "\n",
        "y_train = train['label']\n",
        "y_test = test['label']\n",
        "y_validation = validation['label']"
      ]
    },
    {
      "cell_type": "code",
      "execution_count": 24,
      "metadata": {},
      "outputs": [
        {
          "name": "stdout",
          "output_type": "stream",
          "text": [
            "Logistic Regression Accuracy: 0.781\n",
            "              precision    recall  f1-score   support\n",
            "\n",
            "           0       0.76      0.77      0.77       581\n",
            "           1       0.82      0.90      0.86       854\n",
            "           3       0.75      0.63      0.69       341\n",
            "           4       0.69      0.59      0.64       224\n",
            "\n",
            "    accuracy                           0.78      2000\n",
            "   macro avg       0.76      0.72      0.74      2000\n",
            "weighted avg       0.78      0.78      0.78      2000\n",
            "\n",
            "[[449  85  30  17]\n",
            " [ 55 765  14  20]\n",
            " [ 53  51 215  22]\n",
            " [ 35  30  26 133]]\n"
          ]
        },
        {
          "name": "stderr",
          "output_type": "stream",
          "text": [
            "c:\\Users\\perri\\Desktop\\WORKSPACE\\Sentiment analysis\\mon_env\\Lib\\site-packages\\sklearn\\linear_model\\_logistic.py:469: ConvergenceWarning: lbfgs failed to converge (status=1):\n",
            "STOP: TOTAL NO. of ITERATIONS REACHED LIMIT.\n",
            "\n",
            "Increase the number of iterations (max_iter) or scale the data as shown in:\n",
            "    https://scikit-learn.org/stable/modules/preprocessing.html\n",
            "Please also refer to the documentation for alternative solver options:\n",
            "    https://scikit-learn.org/stable/modules/linear_model.html#logistic-regression\n",
            "  n_iter_i = _check_optimize_result(\n"
          ]
        }
      ],
      "source": [
        "from sklearn.linear_model import LogisticRegression\n",
        "from sklearn.metrics import classification_report, accuracy_score, confusion_matrix\n",
        "\n",
        "rf_logistic = LogisticRegression(random_state=42)\n",
        "rf_logistic.fit(X_train, y_train)\n",
        "\n",
        "\n",
        "y_pred_lg = rf_logistic.predict(X_test)\n",
        "print(f'Logistic Regression Accuracy: {accuracy_score(y_test, y_pred_lg)}')\n",
        "print(classification_report(y_test, y_pred_lg))\n",
        "print(confusion_matrix(y_test, y_pred_lg))\n"
      ]
    },
    {
      "cell_type": "code",
      "execution_count": 25,
      "metadata": {},
      "outputs": [],
      "source": [
        "def predict_sentiment(model):\n",
        "    # Nouvelle phrase à prédire\n",
        "    new_sentence = input('Entrez une phrase : ')\n",
        "\n",
        "    # Étape 1 : Prétraiter la phrase\n",
        "    preprocessed_sentence = preprocess_text(new_sentence)\n",
        "\n",
        "    # Étape 2 : Vectoriser la phrase\n",
        "    sentence_vector = vectorize_text(preprocessed_sentence, model)\n",
        "\n",
        "    # Étape 3 : Prédire le label avec les modèles entraînés\n",
        "    predicted_label_rf = rf_logistic.predict([sentence_vector])\n",
        "    # predicted_label_svc = svc_classifier.predict([sentence_vector])\n",
        "\n",
        "    # Afficher le résultat\n",
        "    print(f'Predicted label by Logistic: {predicted_label_rf[0]}')\n",
        "    # print(f'Predicted label by SVC: {predicted_label_svc[0]}')"
      ]
    },
    {
      "cell_type": "code",
      "execution_count": 33,
      "metadata": {},
      "outputs": [
        {
          "name": "stdout",
          "output_type": "stream",
          "text": [
            "Predicted label by Logistic: 1\n"
          ]
        }
      ],
      "source": [
        "predict_sentiment(model)"
      ]
    },
    {
      "cell_type": "code",
      "execution_count": 27,
      "metadata": {
        "id": "Nucm7UbW0Btu"
      },
      "outputs": [
        {
          "name": "stdout",
          "output_type": "stream",
          "text": [
            "RandomForestClassifier Accuracy: 0.616\n",
            "              precision    recall  f1-score   support\n",
            "\n",
            "           0       0.63      0.57      0.60       581\n",
            "           1       0.60      0.94      0.73       854\n",
            "           3       0.78      0.18      0.30       341\n",
            "           4       0.77      0.15      0.25       224\n",
            "\n",
            "    accuracy                           0.62      2000\n",
            "   macro avg       0.69      0.46      0.47      2000\n",
            "weighted avg       0.66      0.62      0.56      2000\n",
            "\n"
          ]
        }
      ],
      "source": [
        "from sklearn.ensemble import RandomForestClassifier\n",
        "from sklearn.metrics import accuracy_score, classification_report, confusion_matrix\n",
        "\n",
        "rf_classifier = RandomForestClassifier()\n",
        "rf_classifier.fit(X_train, y_train)\n",
        "\n",
        "\n",
        "y_pred_rf = rf_classifier.predict(X_test)\n",
        "print(f'RandomForestClassifier Accuracy: {accuracy_score(y_test, y_pred_rf)}')\n",
        "print(classification_report(y_test, y_pred_rf))\n"
      ]
    },
    {
      "cell_type": "code",
      "execution_count": 28,
      "metadata": {},
      "outputs": [
        {
          "name": "stdout",
          "output_type": "stream",
          "text": [
            "[[333 239   6   3]\n",
            " [ 47 802   5   0]\n",
            " [ 81 190  63   7]\n",
            " [ 67 116   7  34]]\n"
          ]
        }
      ],
      "source": [
        "print(confusion_matrix(y_test, y_pred_rf))"
      ]
    },
    {
      "cell_type": "code",
      "execution_count": 30,
      "metadata": {},
      "outputs": [
        {
          "name": "stdout",
          "output_type": "stream",
          "text": [
            "SVC Accuracy: 0.8005\n",
            "              precision    recall  f1-score   support\n",
            "\n",
            "           0       0.78      0.81      0.79       581\n",
            "           1       0.81      0.93      0.87       854\n",
            "           3       0.80      0.61      0.70       341\n",
            "           4       0.80      0.58      0.67       224\n",
            "\n",
            "    accuracy                           0.80      2000\n",
            "   macro avg       0.80      0.73      0.76      2000\n",
            "weighted avg       0.80      0.80      0.79      2000\n",
            "\n"
          ]
        }
      ],
      "source": [
        "from sklearn.svm import SVC\n",
        "\n",
        "svc_classifier = SVC()\n",
        "svc_classifier.fit(X_train, y_train)\n",
        "\n",
        "# Prédiction et évaluation\n",
        "y_pred_svc = svc_classifier.predict(X_test)\n",
        "print(f'SVC Accuracy: {accuracy_score(y_test, y_pred_svc)}')\n",
        "print(classification_report(y_test, y_pred_svc))\n"
      ]
    },
    {
      "cell_type": "code",
      "execution_count": null,
      "metadata": {},
      "outputs": [
        {
          "name": "stdout",
          "output_type": "stream",
          "text": [
            "RandomForestClassifier Validation Accuracy: 0.533\n",
            "              precision    recall  f1-score   support\n",
            "\n",
            "           0       0.47      0.73      0.57       550\n",
            "           1       0.56      0.85      0.68       704\n",
            "           2       0.56      0.03      0.05       178\n",
            "           3       0.79      0.11      0.19       275\n",
            "           4       0.88      0.14      0.24       212\n",
            "           5       1.00      0.02      0.05        81\n",
            "\n",
            "    accuracy                           0.53      2000\n",
            "   macro avg       0.71      0.31      0.30      2000\n",
            "weighted avg       0.62      0.53      0.45      2000\n",
            "\n",
            "SVC Validation Accuracy: 0.6915\n",
            "              precision    recall  f1-score   support\n",
            "\n",
            "           0       0.62      0.81      0.71       550\n",
            "           1       0.72      0.88      0.79       704\n",
            "           2       0.85      0.33      0.47       178\n",
            "           3       0.75      0.49      0.60       275\n",
            "           4       0.69      0.45      0.55       212\n",
            "           5       0.81      0.31      0.45        81\n",
            "\n",
            "    accuracy                           0.69      2000\n",
            "   macro avg       0.74      0.55      0.59      2000\n",
            "weighted avg       0.71      0.69      0.67      2000\n",
            "\n"
          ]
        }
      ],
      "source": [
        "y_pred_validation_rf = rf_classifier.predict(X_validation)\n",
        "print(f'RandomForestClassifier Validation Accuracy: {accuracy_score(y_validation, y_pred_validation_rf)}')\n",
        "print(classification_report(y_validation, y_pred_validation_rf))\n",
        "\n",
        "y_pred_validation_svc = svc_classifier.predict(X_validation)\n",
        "print(f'SVC Validation Accuracy: {accuracy_score(y_validation, y_pred_validation_svc)}')\n",
        "print(classification_report(y_validation, y_pred_validation_svc))"
      ]
    },
    {
      "cell_type": "code",
      "execution_count": null,
      "metadata": {},
      "outputs": [],
      "source": []
    },
    {
      "cell_type": "code",
      "execution_count": null,
      "metadata": {
        "id": "qUs3MoV70FMB"
      },
      "outputs": [],
      "source": [
        "# models = [LogisticRegression(random_state=42), DecisionTreeClassifier(criterion='entropy'), RandomForestClassifier(), XGBClassifier()]\n",
        "\n",
        "#for model in models:\n",
        "\n",
        "    #print(f'________________{model}')\n",
        "    #model.fit(X_train, y_train)\n",
        "    #y_pred = model.predict(X_val)\n",
        "    #print(f'Confusion matrix: {confusion_matrix(y_val, y_pred)}')\n",
        "    #print(f'Accuracy : {accuracy_score(y_val, y_pred)}')\n",
        "    #print(f'Classification Report : {classification_report(y_val, y_pred)}')"
      ]
    },
    {
      "cell_type": "code",
      "execution_count": null,
      "metadata": {
        "id": "cJQfJZmE3D4h"
      },
      "outputs": [],
      "source": []
    }
  ],
  "metadata": {
    "colab": {
      "provenance": []
    },
    "kernelspec": {
      "display_name": "Python 3",
      "name": "python3"
    },
    "language_info": {
      "codemirror_mode": {
        "name": "ipython",
        "version": 3
      },
      "file_extension": ".py",
      "mimetype": "text/x-python",
      "name": "python",
      "nbconvert_exporter": "python",
      "pygments_lexer": "ipython3",
      "version": "3.11.9"
    }
=======
 "cells": [
  {
   "cell_type": "code",
   "execution_count": 1,
   "metadata": {
    "id": "SpvFmszjAQUd"
   },
   "outputs": [],
   "source": [
    "import numpy as np\n",
    "import pandas as pd\n",
    "import matplotlib.pyplot as plt\n",
    "import seaborn as sns"
   ]
>>>>>>> 0dd4078c6dfc54a0e5108faf81778e1623d20d87
  },
  {
   "cell_type": "code",
   "execution_count": 2,
   "metadata": {
    "id": "G2rL7eNqA-wE"
   },
   "outputs": [],
   "source": [
    "train = pd.read_csv(\"Datasets/training.csv\")\n",
    "test = pd.read_csv('Datasets/test.csv')\n",
    "validation = pd.read_csv('Datasets/validation.csv')"
   ]
  },
  {
   "cell_type": "markdown",
   "metadata": {
    "id": "iGqFWcvVZl4E"
   },
   "source": [
    "Labels :\n",
    "\n",
    "  * 0 = sadness\n",
    "  * 1 = joy\n",
    "  * 2 = love\n",
    "  * 3 = anger\n",
    "  * 4 = fear\n",
    "  * 5 = surprise"
   ]
  },
  {
   "cell_type": "code",
   "execution_count": 3,
   "metadata": {
    "colab": {
     "base_uri": "https://localhost:8080/",
     "height": 226
    },
    "id": "2gpzz_yAZbCK",
    "outputId": "27a4e0b2-c616-4254-8fc8-bc00fc485918"
   },
   "outputs": [
    {
     "data": {
      "text/html": [
       "<div>\n",
       "<style scoped>\n",
       "    .dataframe tbody tr th:only-of-type {\n",
       "        vertical-align: middle;\n",
       "    }\n",
       "\n",
       "    .dataframe tbody tr th {\n",
       "        vertical-align: top;\n",
       "    }\n",
       "\n",
       "    .dataframe thead th {\n",
       "        text-align: right;\n",
       "    }\n",
       "</style>\n",
       "<table border=\"1\" class=\"dataframe\">\n",
       "  <thead>\n",
       "    <tr style=\"text-align: right;\">\n",
       "      <th></th>\n",
       "      <th>text</th>\n",
       "      <th>label</th>\n",
       "    </tr>\n",
       "  </thead>\n",
       "  <tbody>\n",
       "    <tr>\n",
       "      <th>0</th>\n",
       "      <td>i didnt feel humiliated</td>\n",
       "      <td>0</td>\n",
       "    </tr>\n",
       "    <tr>\n",
       "      <th>1</th>\n",
       "      <td>i can go from feeling so hopeless to so damned...</td>\n",
       "      <td>0</td>\n",
       "    </tr>\n",
       "    <tr>\n",
       "      <th>2</th>\n",
       "      <td>im grabbing a minute to post i feel greedy wrong</td>\n",
       "      <td>3</td>\n",
       "    </tr>\n",
       "    <tr>\n",
       "      <th>3</th>\n",
       "      <td>i am ever feeling nostalgic about the fireplac...</td>\n",
       "      <td>2</td>\n",
       "    </tr>\n",
       "    <tr>\n",
       "      <th>4</th>\n",
       "      <td>i am feeling grouchy</td>\n",
       "      <td>3</td>\n",
       "    </tr>\n",
       "  </tbody>\n",
       "</table>\n",
       "</div>"
      ],
      "text/plain": [
       "                                                text  label\n",
       "0                            i didnt feel humiliated      0\n",
       "1  i can go from feeling so hopeless to so damned...      0\n",
       "2   im grabbing a minute to post i feel greedy wrong      3\n",
       "3  i am ever feeling nostalgic about the fireplac...      2\n",
       "4                               i am feeling grouchy      3"
      ]
     },
     "execution_count": 3,
     "metadata": {},
     "output_type": "execute_result"
    }
   ],
   "source": [
    "train.head()"
   ]
  },
  {
   "cell_type": "code",
   "execution_count": 4,
   "metadata": {
    "colab": {
     "base_uri": "https://localhost:8080/"
    },
    "id": "spNo9WVcZ4TL",
    "outputId": "5ac99889-f432-4679-eec5-53a5c8db5647"
   },
   "outputs": [
    {
     "name": "stdout",
     "output_type": "stream",
     "text": [
      "<class 'pandas.core.frame.DataFrame'>\n",
      "RangeIndex: 16000 entries, 0 to 15999\n",
      "Data columns (total 2 columns):\n",
      " #   Column  Non-Null Count  Dtype \n",
      "---  ------  --------------  ----- \n",
      " 0   text    16000 non-null  object\n",
      " 1   label   16000 non-null  int64 \n",
      "dtypes: int64(1), object(1)\n",
      "memory usage: 250.1+ KB\n"
     ]
    }
   ],
   "source": [
    "train.info()"
   ]
  },
  {
   "cell_type": "code",
   "execution_count": 5,
   "metadata": {
    "colab": {
     "base_uri": "https://localhost:8080/"
    },
    "id": "7F34X9gvaHNF",
    "outputId": "23a2df29-677a-450f-9da8-90a2db179ec3"
   },
   "outputs": [
    {
     "name": "stdout",
     "output_type": "stream",
     "text": [
      "<class 'pandas.core.frame.DataFrame'>\n",
      "RangeIndex: 2000 entries, 0 to 1999\n",
      "Data columns (total 2 columns):\n",
      " #   Column  Non-Null Count  Dtype \n",
      "---  ------  --------------  ----- \n",
      " 0   text    2000 non-null   object\n",
      " 1   label   2000 non-null   int64 \n",
      "dtypes: int64(1), object(1)\n",
      "memory usage: 31.4+ KB\n"
     ]
    }
   ],
   "source": [
    "validation.info()"
   ]
  },
  {
   "cell_type": "code",
   "execution_count": 6,
   "metadata": {
    "colab": {
     "base_uri": "https://localhost:8080/"
    },
    "id": "SGF4LqLxaM9l",
    "outputId": "fb88477f-eb6d-4dcb-c24f-a8a8348fb437"
   },
   "outputs": [
    {
     "name": "stdout",
     "output_type": "stream",
     "text": [
      "<class 'pandas.core.frame.DataFrame'>\n",
      "RangeIndex: 2000 entries, 0 to 1999\n",
      "Data columns (total 2 columns):\n",
      " #   Column  Non-Null Count  Dtype \n",
      "---  ------  --------------  ----- \n",
      " 0   text    2000 non-null   object\n",
      " 1   label   2000 non-null   int64 \n",
      "dtypes: int64(1), object(1)\n",
      "memory usage: 31.4+ KB\n"
     ]
    }
   ],
   "source": [
    "test.info()"
   ]
  },
  {
   "cell_type": "markdown",
   "metadata": {
    "id": "lsOsNHBTa-tC"
   },
   "source": [
    "## Visualisation"
   ]
  },
  {
   "cell_type": "code",
   "execution_count": 7,
   "metadata": {
    "colab": {
     "base_uri": "https://localhost:8080/",
     "height": 487
    },
    "id": "wyN7RDVraZWD",
    "outputId": "6dbea7b5-d18f-4ac7-c228-04c7ef4259f0"
   },
   "outputs": [
    {
     "data": {
      "text/plain": [
       "<Axes: xlabel='label', ylabel='count'>"
      ]
     },
     "execution_count": 7,
     "metadata": {},
     "output_type": "execute_result"
    },
    {
     "data": {
      "image/png": "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",
      "text/plain": [
       "<Figure size 640x480 with 1 Axes>"
      ]
     },
     "metadata": {},
     "output_type": "display_data"
    }
   ],
   "source": [
    "sns.countplot(x='label',data=train)"
   ]
  },
  {
   "cell_type": "code",
   "execution_count": 8,
   "metadata": {
    "colab": {
     "base_uri": "https://localhost:8080/",
     "height": 487
    },
    "id": "UDqsGendav53",
    "outputId": "772eb8bc-d778-4069-880b-290461a13652"
   },
   "outputs": [
    {
     "data": {
      "text/plain": [
       "<Axes: xlabel='label', ylabel='count'>"
      ]
     },
     "execution_count": 8,
     "metadata": {},
     "output_type": "execute_result"
    },
    {
     "data": {
      "image/png": "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",
      "text/plain": [
       "<Figure size 640x480 with 1 Axes>"
      ]
     },
     "metadata": {},
     "output_type": "display_data"
    }
   ],
   "source": [
    "sns.countplot(x='label',data=test)"
   ]
  },
  {
   "cell_type": "code",
   "execution_count": 9,
   "metadata": {
    "colab": {
     "base_uri": "https://localhost:8080/",
     "height": 487
    },
    "id": "EojaryCHa3Mx",
    "outputId": "551b2026-3821-4bc6-f38d-d2b53888464f"
   },
   "outputs": [
    {
     "data": {
      "text/plain": [
       "<Axes: xlabel='label', ylabel='count'>"
      ]
     },
     "execution_count": 9,
     "metadata": {},
     "output_type": "execute_result"
    },
    {
     "data": {
      "image/png": "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",
      "text/plain": [
       "<Figure size 640x480 with 1 Axes>"
      ]
     },
     "metadata": {},
     "output_type": "display_data"
    }
   ],
   "source": [
    "sns.countplot(x='label',data=validation)"
   ]
  },
  {
   "cell_type": "markdown",
   "metadata": {
    "id": "PA7rGdD8bMq7"
   },
   "source": [
    "On peut conclure que la répartitions des données par catégories est semblable pour tous les datasets sachant qu'il y a une prédominance des données de catégories 0 et 1."
   ]
  },
  {
   "cell_type": "markdown",
   "metadata": {
    "id": "41I8dzDpbyKe"
   },
   "source": [
    "## Data Preprocessing"
   ]
  },
  {
   "cell_type": "code",
   "execution_count": 10,
   "metadata": {
    "colab": {
     "base_uri": "https://localhost:8080/"
    },
    "id": "43Ub-ZHAa5Zl",
    "outputId": "f080b91c-c095-4cc2-9ef9-8b520b2accb4"
   },
   "outputs": [
    {
     "name": "stderr",
     "output_type": "stream",
     "text": [
      "[nltk_data] Downloading package stopwords to\n",
      "[nltk_data]     C:\\Users\\perri\\AppData\\Roaming\\nltk_data...\n",
      "[nltk_data]   Package stopwords is already up-to-date!\n",
      "[nltk_data] Downloading package punkt to\n",
      "[nltk_data]     C:\\Users\\perri\\AppData\\Roaming\\nltk_data...\n",
      "[nltk_data]   Package punkt is already up-to-date!\n"
     ]
    },
    {
     "data": {
      "text/plain": [
       "True"
      ]
     },
     "execution_count": 10,
     "metadata": {},
     "output_type": "execute_result"
    }
   ],
   "source": [
    "import re\n",
    "import nltk\n",
    "nltk.download('stopwords')\n",
    "from nltk.corpus import stopwords\n",
    "from nltk.tokenize import word_tokenize\n",
    "from nltk.stem import WordNetLemmatizer\n",
    "# \n",
    "nltk.download('punkt')"
   ]
  },
  {
   "cell_type": "code",
   "execution_count": 11,
   "metadata": {},
   "outputs": [
    {
     "name": "stderr",
     "output_type": "stream",
     "text": [
      "[nltk_data] Downloading package wordnet to\n",
      "[nltk_data]     C:\\Users\\perri\\AppData\\Roaming\\nltk_data...\n",
      "[nltk_data]   Package wordnet is already up-to-date!\n"
     ]
    },
    {
     "data": {
      "text/plain": [
       "True"
      ]
     },
     "execution_count": 11,
     "metadata": {},
     "output_type": "execute_result"
    }
   ],
   "source": [
    "nltk.download('wordnet')"
   ]
  },
  {
   "cell_type": "code",
   "execution_count": 12,
   "metadata": {},
   "outputs": [
    {
     "name": "stderr",
     "output_type": "stream",
     "text": [
      "[nltk_data] Downloading package punkt_tab to\n",
      "[nltk_data]     C:\\Users\\perri\\AppData\\Roaming\\nltk_data...\n",
      "[nltk_data]   Package punkt_tab is already up-to-date!\n"
     ]
    },
    {
     "data": {
      "text/plain": [
       "True"
      ]
     },
     "execution_count": 12,
     "metadata": {},
     "output_type": "execute_result"
    }
   ],
   "source": [
    "nltk.download('punkt_tab')"
   ]
  },
  {
   "cell_type": "code",
   "execution_count": 13,
   "metadata": {
    "id": "qsppDMJvghRH"
   },
   "outputs": [],
   "source": [
    "def preprocess_text(text):\n",
    "    tokens = word_tokenize(text.lower())\n",
    "    tokens = [token for token in tokens if token not in ['feel', 'feeling']]\n",
    "    filtered_tokens = [token for token in tokens if token not in stopwords.words('english')]\n",
    "    lemmatizer = WordNetLemmatizer()\n",
    "    lemmatized_tokens = [str(lemmatizer.lemmatize(token)) for token in filtered_tokens]\n",
    "    return lemmatized_tokens"
   ]
  },
  {
   "cell_type": "code",
   "execution_count": 14,
   "metadata": {},
   "outputs": [],
   "source": [
    "train['text'] = train['text'].apply(preprocess_text)"
   ]
  },
  {
   "cell_type": "code",
   "execution_count": 15,
   "metadata": {
    "id": "61pmXFV7hpte"
   },
   "outputs": [],
   "source": [
    "test['text'] = test['text'].apply(preprocess_text)\n",
    "validation['text'] = validation['text'].apply(preprocess_text)"
   ]
  },
  {
   "cell_type": "code",
   "execution_count": 30,
   "metadata": {},
   "outputs": [
    {
     "name": "stdout",
     "output_type": "stream",
     "text": [
      "['didnt', 'humiliated']\n"
     ]
    }
   ],
   "source": [
    "\n",
    "print(train.text.iloc[0])"
   ]
  },
  {
   "cell_type": "code",
   "execution_count": 16,
   "metadata": {
    "colab": {
     "base_uri": "https://localhost:8080/",
     "height": 226
    },
    "id": "fKBs2FEQivPN",
    "outputId": "0704057f-dafb-4489-a5e4-961669a13091"
   },
   "outputs": [
    {
     "data": {
      "text/html": [
       "<div>\n",
       "<style scoped>\n",
       "    .dataframe tbody tr th:only-of-type {\n",
       "        vertical-align: middle;\n",
       "    }\n",
       "\n",
       "    .dataframe tbody tr th {\n",
       "        vertical-align: top;\n",
       "    }\n",
       "\n",
       "    .dataframe thead th {\n",
       "        text-align: right;\n",
       "    }\n",
       "</style>\n",
       "<table border=\"1\" class=\"dataframe\">\n",
       "  <thead>\n",
       "    <tr style=\"text-align: right;\">\n",
       "      <th></th>\n",
       "      <th>text</th>\n",
       "      <th>label</th>\n",
       "    </tr>\n",
       "  </thead>\n",
       "  <tbody>\n",
       "    <tr>\n",
       "      <th>0</th>\n",
       "      <td>[didnt, humiliated]</td>\n",
       "      <td>0</td>\n",
       "    </tr>\n",
       "    <tr>\n",
       "      <th>1</th>\n",
       "      <td>[go, hopeless, damned, hopeful, around, someon...</td>\n",
       "      <td>0</td>\n",
       "    </tr>\n",
       "    <tr>\n",
       "      <th>2</th>\n",
       "      <td>[im, grabbing, minute, post, greedy, wrong]</td>\n",
       "      <td>3</td>\n",
       "    </tr>\n",
       "    <tr>\n",
       "      <th>3</th>\n",
       "      <td>[ever, nostalgic, fireplace, know, still, prop...</td>\n",
       "      <td>2</td>\n",
       "    </tr>\n",
       "    <tr>\n",
       "      <th>4</th>\n",
       "      <td>[grouchy]</td>\n",
       "      <td>3</td>\n",
       "    </tr>\n",
       "  </tbody>\n",
       "</table>\n",
       "</div>"
      ],
      "text/plain": [
       "                                                text  label\n",
       "0                                [didnt, humiliated]      0\n",
       "1  [go, hopeless, damned, hopeful, around, someon...      0\n",
       "2        [im, grabbing, minute, post, greedy, wrong]      3\n",
       "3  [ever, nostalgic, fireplace, know, still, prop...      2\n",
       "4                                          [grouchy]      3"
      ]
     },
     "execution_count": 16,
     "metadata": {},
     "output_type": "execute_result"
    }
   ],
   "source": [
    "train.head()"
   ]
  },
  {
   "cell_type": "code",
   "execution_count": 17,
   "metadata": {
    "colab": {
     "base_uri": "https://localhost:8080/",
     "height": 226
    },
    "id": "t9mVyRA5i1Sn",
    "outputId": "50bc58e5-1084-4e4b-c131-9b8dc5f2ace4"
   },
   "outputs": [
    {
     "data": {
      "text/html": [
       "<div>\n",
       "<style scoped>\n",
       "    .dataframe tbody tr th:only-of-type {\n",
       "        vertical-align: middle;\n",
       "    }\n",
       "\n",
       "    .dataframe tbody tr th {\n",
       "        vertical-align: top;\n",
       "    }\n",
       "\n",
       "    .dataframe thead th {\n",
       "        text-align: right;\n",
       "    }\n",
       "</style>\n",
       "<table border=\"1\" class=\"dataframe\">\n",
       "  <thead>\n",
       "    <tr style=\"text-align: right;\">\n",
       "      <th></th>\n",
       "      <th>text</th>\n",
       "      <th>label</th>\n",
       "    </tr>\n",
       "  </thead>\n",
       "  <tbody>\n",
       "    <tr>\n",
       "      <th>0</th>\n",
       "      <td>[im, rather, rotten, im, ambitious, right]</td>\n",
       "      <td>0</td>\n",
       "    </tr>\n",
       "    <tr>\n",
       "      <th>1</th>\n",
       "      <td>[im, updating, blog, shitty]</td>\n",
       "      <td>0</td>\n",
       "    </tr>\n",
       "    <tr>\n",
       "      <th>2</th>\n",
       "      <td>[never, make, separate, ever, want, like, asha...</td>\n",
       "      <td>0</td>\n",
       "    </tr>\n",
       "    <tr>\n",
       "      <th>3</th>\n",
       "      <td>[left, bouquet, red, yellow, tulip, arm, sligh...</td>\n",
       "      <td>1</td>\n",
       "    </tr>\n",
       "    <tr>\n",
       "      <th>4</th>\n",
       "      <td>[little, vain, one]</td>\n",
       "      <td>0</td>\n",
       "    </tr>\n",
       "  </tbody>\n",
       "</table>\n",
       "</div>"
      ],
      "text/plain": [
       "                                                text  label\n",
       "0         [im, rather, rotten, im, ambitious, right]      0\n",
       "1                       [im, updating, blog, shitty]      0\n",
       "2  [never, make, separate, ever, want, like, asha...      0\n",
       "3  [left, bouquet, red, yellow, tulip, arm, sligh...      1\n",
       "4                                [little, vain, one]      0"
      ]
     },
     "execution_count": 17,
     "metadata": {},
     "output_type": "execute_result"
    }
   ],
   "source": [
    "test.head()"
   ]
  },
  {
   "cell_type": "code",
   "execution_count": 18,
   "metadata": {
    "colab": {
     "base_uri": "https://localhost:8080/",
     "height": 226
    },
    "id": "O7GN4g2wkpzU",
    "outputId": "5cbf5776-bd5c-4ebc-ccc2-0155e5f041d4"
   },
   "outputs": [
    {
     "data": {
      "text/html": [
       "<div>\n",
       "<style scoped>\n",
       "    .dataframe tbody tr th:only-of-type {\n",
       "        vertical-align: middle;\n",
       "    }\n",
       "\n",
       "    .dataframe tbody tr th {\n",
       "        vertical-align: top;\n",
       "    }\n",
       "\n",
       "    .dataframe thead th {\n",
       "        text-align: right;\n",
       "    }\n",
       "</style>\n",
       "<table border=\"1\" class=\"dataframe\">\n",
       "  <thead>\n",
       "    <tr style=\"text-align: right;\">\n",
       "      <th></th>\n",
       "      <th>text</th>\n",
       "      <th>label</th>\n",
       "    </tr>\n",
       "  </thead>\n",
       "  <tbody>\n",
       "    <tr>\n",
       "      <th>0</th>\n",
       "      <td>[im, quite, sad, sorry, ill, snap, soon]</td>\n",
       "      <td>0</td>\n",
       "    </tr>\n",
       "    <tr>\n",
       "      <th>1</th>\n",
       "      <td>[like, still, looking, blank, canvas, blank, p...</td>\n",
       "      <td>0</td>\n",
       "    </tr>\n",
       "    <tr>\n",
       "      <th>2</th>\n",
       "      <td>[like, faithful, servant]</td>\n",
       "      <td>2</td>\n",
       "    </tr>\n",
       "    <tr>\n",
       "      <th>3</th>\n",
       "      <td>[cranky, blue]</td>\n",
       "      <td>3</td>\n",
       "    </tr>\n",
       "    <tr>\n",
       "      <th>4</th>\n",
       "      <td>[treat, festive]</td>\n",
       "      <td>1</td>\n",
       "    </tr>\n",
       "  </tbody>\n",
       "</table>\n",
       "</div>"
      ],
      "text/plain": [
       "                                                text  label\n",
       "0           [im, quite, sad, sorry, ill, snap, soon]      0\n",
       "1  [like, still, looking, blank, canvas, blank, p...      0\n",
       "2                          [like, faithful, servant]      2\n",
       "3                                     [cranky, blue]      3\n",
       "4                                   [treat, festive]      1"
      ]
     },
     "execution_count": 18,
     "metadata": {},
     "output_type": "execute_result"
    }
   ],
   "source": [
    "validation.head()"
   ]
  },
  {
   "cell_type": "code",
   "execution_count": 31,
   "metadata": {
    "id": "K43H6gYYo_-h"
   },
   "outputs": [],
   "source": [
    "from gensim.models import Word2Vec\n",
    "\n",
    "model = Word2Vec(sentences=train['text'], min_count=2, vector_size=150, window=10, workers=10)"
   ]
  },
  {
   "cell_type": "code",
   "execution_count": 32,
   "metadata": {},
   "outputs": [
    {
     "data": {
      "text/plain": [
       "(1163916, 1333420)"
      ]
     },
     "execution_count": 32,
     "metadata": {},
     "output_type": "execute_result"
    }
   ],
   "source": [
    "model.train(train['text'], total_examples=len(train['text']), epochs=10)"
   ]
  },
  {
   "cell_type": "code",
   "execution_count": 35,
   "metadata": {},
   "outputs": [
    {
     "data": {
      "text/plain": [
       "[('show', 0.9597744345664978),\n",
       " ('jonah', 0.9528241753578186),\n",
       " ('trust', 0.9522894024848938),\n",
       " ('others', 0.950377345085144),\n",
       " ('see', 0.9481398463249207),\n",
       " ('u', 0.9463871121406555),\n",
       " ('woman', 0.9449219107627869),\n",
       " ('accepted', 0.9431284070014954),\n",
       " ('way', 0.9388834834098816),\n",
       " ('people', 0.9355370998382568)]"
      ]
     },
     "execution_count": 35,
     "metadata": {},
     "output_type": "execute_result"
    }
   ],
   "source": [
    "model.wv.most_similar('god')"
   ]
  },
  {
   "cell_type": "code",
   "execution_count": 36,
   "metadata": {},
   "outputs": [],
   "source": [
    "def vectorize_text(text, model):\n",
    "    word_vectors = [model.wv[word] for word in text if word in model.wv]\n",
    "    if len(word_vectors) > 0:\n",
    "        return np.mean(word_vectors, axis=0)\n",
    "    else:\n",
    "        return np.zeros(model.vector_size)"
   ]
  },
  {
   "cell_type": "code",
   "execution_count": 37,
   "metadata": {},
   "outputs": [
    {
     "name": "stdout",
     "output_type": "stream",
     "text": [
      "0       [0.33421838, -0.15531565, -0.1447195, -0.02708...\n",
      "1       [0.29768297, -0.25159582, -0.13560583, -0.0339...\n",
      "2       [0.18988983, 0.0042102463, -0.16753425, -0.164...\n",
      "3       [0.15969007, -0.17276989, -0.16765669, 0.05115...\n",
      "4       [0.14208315, -0.121484466, -0.2570027, 0.11442...\n",
      "                              ...                        \n",
      "1995    [0.21350408, -0.09763948, -0.24066958, -0.1636...\n",
      "1996    [0.20881522, -0.15013419, -0.17055953, 0.05997...\n",
      "1997    [0.0820603, -0.22384103, -0.3002438, -0.051739...\n",
      "1998    [0.23262534, -0.11905555, -0.16665685, -0.0275...\n",
      "1999    [0.13673978, -0.2095292, -0.23337087, -0.05041...\n",
      "Name: text, Length: 2000, dtype: object\n"
     ]
    }
   ],
   "source": [
    "train_vectors = train['text'].apply(lambda x: vectorize_text(x, model))\n",
    "test_vectors = test['text'].apply(lambda x: vectorize_text(x, model))\n",
    "validation_vectors = validation['text'].apply(lambda x: vectorize_text(x, model))"
   ]
  },
  {
   "cell_type": "code",
   "execution_count": 38,
   "metadata": {},
   "outputs": [],
   "source": [
    "X_train = np.vstack(train_vectors)\n",
    "X_test = np.vstack(test_vectors)\n",
    "X_validation = np.vstack(validation_vectors)\n",
    "\n",
    "y_train = train['label']\n",
    "y_test = test['label']\n",
    "y_validation = validation['label']"
   ]
  },
  {
   "cell_type": "code",
   "execution_count": 39,
   "metadata": {
    "id": "Nucm7UbW0Btu"
   },
   "outputs": [
    {
     "name": "stdout",
     "output_type": "stream",
     "text": [
      "RandomForestClassifier Accuracy: 0.4405\n",
      "              precision    recall  f1-score   support\n",
      "\n",
      "           0       0.39      0.54      0.45       581\n",
      "           1       0.49      0.74      0.59       695\n",
      "           2       0.36      0.05      0.09       159\n",
      "           3       0.43      0.07      0.12       275\n",
      "           4       0.35      0.12      0.18       224\n",
      "           5       0.33      0.02      0.03        66\n",
      "\n",
      "    accuracy                           0.44      2000\n",
      "   macro avg       0.39      0.26      0.24      2000\n",
      "weighted avg       0.42      0.44      0.38      2000\n",
      "\n"
     ]
    }
   ],
   "source": [
    "from sklearn.ensemble import RandomForestClassifier\n",
    "from sklearn.metrics import accuracy_score, classification_report\n",
    "\n",
    "rf_classifier = RandomForestClassifier()\n",
    "rf_classifier.fit(X_train, y_train)\n",
    "\n",
    "\n",
    "y_pred_rf = rf_classifier.predict(X_test)\n",
    "print(f'RandomForestClassifier Accuracy: {accuracy_score(y_test, y_pred_rf)}')\n",
    "print(classification_report(y_test, y_pred_rf))\n"
   ]
  },
  {
   "cell_type": "code",
   "execution_count": 40,
   "metadata": {},
   "outputs": [
    {
     "name": "stdout",
     "output_type": "stream",
     "text": [
      "SVC Accuracy: 0.443\n",
      "              precision    recall  f1-score   support\n",
      "\n",
      "           0       0.40      0.58      0.47       581\n",
      "           1       0.48      0.79      0.60       695\n",
      "           2       0.00      0.00      0.00       159\n",
      "           3       0.00      0.00      0.00       275\n",
      "           4       0.00      0.00      0.00       224\n",
      "           5       0.00      0.00      0.00        66\n",
      "\n",
      "    accuracy                           0.44      2000\n",
      "   macro avg       0.15      0.23      0.18      2000\n",
      "weighted avg       0.28      0.44      0.34      2000\n",
      "\n"
     ]
    },
    {
     "name": "stderr",
     "output_type": "stream",
     "text": [
      "c:\\Users\\perri\\Desktop\\WORKSPACE\\Sentiment analysis\\mon_env\\Lib\\site-packages\\sklearn\\metrics\\_classification.py:1531: UndefinedMetricWarning: Precision is ill-defined and being set to 0.0 in labels with no predicted samples. Use `zero_division` parameter to control this behavior.\n",
      "  _warn_prf(average, modifier, f\"{metric.capitalize()} is\", len(result))\n",
      "c:\\Users\\perri\\Desktop\\WORKSPACE\\Sentiment analysis\\mon_env\\Lib\\site-packages\\sklearn\\metrics\\_classification.py:1531: UndefinedMetricWarning: Precision is ill-defined and being set to 0.0 in labels with no predicted samples. Use `zero_division` parameter to control this behavior.\n",
      "  _warn_prf(average, modifier, f\"{metric.capitalize()} is\", len(result))\n",
      "c:\\Users\\perri\\Desktop\\WORKSPACE\\Sentiment analysis\\mon_env\\Lib\\site-packages\\sklearn\\metrics\\_classification.py:1531: UndefinedMetricWarning: Precision is ill-defined and being set to 0.0 in labels with no predicted samples. Use `zero_division` parameter to control this behavior.\n",
      "  _warn_prf(average, modifier, f\"{metric.capitalize()} is\", len(result))\n"
     ]
    }
   ],
   "source": [
    "from sklearn.svm import SVC\n",
    "\n",
    "svc_classifier = SVC()\n",
    "svc_classifier.fit(X_train, y_train)\n",
    "\n",
    "# Prédiction et évaluation\n",
    "y_pred_svc = svc_classifier.predict(X_test)\n",
    "print(f'SVC Accuracy: {accuracy_score(y_test, y_pred_svc)}')\n",
    "print(classification_report(y_test, y_pred_svc))\n"
   ]
  },
  {
   "cell_type": "code",
   "execution_count": 41,
   "metadata": {},
   "outputs": [
    {
     "name": "stdout",
     "output_type": "stream",
     "text": [
      "RandomForestClassifier Validation Accuracy: 0.4125\n",
      "              precision    recall  f1-score   support\n",
      "\n",
      "           0       0.36      0.56      0.44       550\n",
      "           1       0.47      0.68      0.56       704\n",
      "           2       0.31      0.02      0.04       178\n",
      "           3       0.29      0.05      0.09       275\n",
      "           4       0.29      0.11      0.16       212\n",
      "           5       1.00      0.01      0.02        81\n",
      "\n",
      "    accuracy                           0.41      2000\n",
      "   macro avg       0.45      0.24      0.22      2000\n",
      "weighted avg       0.40      0.41      0.35      2000\n",
      "\n",
      "SVC Validation Accuracy: 0.432\n",
      "              precision    recall  f1-score   support\n",
      "\n",
      "           0       0.37      0.59      0.46       550\n",
      "           1       0.48      0.76      0.59       704\n",
      "           2       0.00      0.00      0.00       178\n",
      "           3       0.00      0.00      0.00       275\n",
      "           4       0.00      0.00      0.00       212\n",
      "           5       0.00      0.00      0.00        81\n",
      "\n",
      "    accuracy                           0.43      2000\n",
      "   macro avg       0.14      0.23      0.17      2000\n",
      "weighted avg       0.27      0.43      0.33      2000\n",
      "\n"
     ]
    },
    {
     "name": "stderr",
     "output_type": "stream",
     "text": [
      "c:\\Users\\perri\\Desktop\\WORKSPACE\\Sentiment analysis\\mon_env\\Lib\\site-packages\\sklearn\\metrics\\_classification.py:1531: UndefinedMetricWarning: Precision is ill-defined and being set to 0.0 in labels with no predicted samples. Use `zero_division` parameter to control this behavior.\n",
      "  _warn_prf(average, modifier, f\"{metric.capitalize()} is\", len(result))\n",
      "c:\\Users\\perri\\Desktop\\WORKSPACE\\Sentiment analysis\\mon_env\\Lib\\site-packages\\sklearn\\metrics\\_classification.py:1531: UndefinedMetricWarning: Precision is ill-defined and being set to 0.0 in labels with no predicted samples. Use `zero_division` parameter to control this behavior.\n",
      "  _warn_prf(average, modifier, f\"{metric.capitalize()} is\", len(result))\n",
      "c:\\Users\\perri\\Desktop\\WORKSPACE\\Sentiment analysis\\mon_env\\Lib\\site-packages\\sklearn\\metrics\\_classification.py:1531: UndefinedMetricWarning: Precision is ill-defined and being set to 0.0 in labels with no predicted samples. Use `zero_division` parameter to control this behavior.\n",
      "  _warn_prf(average, modifier, f\"{metric.capitalize()} is\", len(result))\n"
     ]
    }
   ],
   "source": [
    "y_pred_validation_rf = rf_classifier.predict(X_validation)\n",
    "print(f'RandomForestClassifier Validation Accuracy: {accuracy_score(y_validation, y_pred_validation_rf)}')\n",
    "print(classification_report(y_validation, y_pred_validation_rf))\n",
    "\n",
    "y_pred_validation_svc = svc_classifier.predict(X_validation)\n",
    "print(f'SVC Validation Accuracy: {accuracy_score(y_validation, y_pred_validation_svc)}')\n",
    "print(classification_report(y_validation, y_pred_validation_svc))"
   ]
  },
  {
   "cell_type": "code",
   "execution_count": null,
   "metadata": {
    "id": "qUs3MoV70FMB"
   },
   "outputs": [],
   "source": [
    "# models = [LogisticRegression(random_state=42), DecisionTreeClassifier(criterion='entropy'), RandomForestClassifier(), XGBClassifier()]\n",
    "\n",
    "#for model in models:\n",
    "\n",
    "    #print(f'________________{model}')\n",
    "    #model.fit(X_train, y_train)\n",
    "    #y_pred = model.predict(X_val)\n",
    "    #print(f'Confusion matrix: {confusion_matrix(y_val, y_pred)}')\n",
    "    #print(f'Accuracy : {accuracy_score(y_val, y_pred)}')\n",
    "    #print(f'Classification Report : {classification_report(y_val, y_pred)}')"
   ]
  },
  {
   "cell_type": "code",
   "execution_count": null,
   "metadata": {
    "id": "cJQfJZmE3D4h"
   },
   "outputs": [],
   "source": []
  }
 ],
 "metadata": {
  "colab": {
   "provenance": []
  },
  "kernelspec": {
   "display_name": "Python 3",
   "language": "python",
   "name": "python3"
  },
  "language_info": {
   "codemirror_mode": {
    "name": "ipython",
    "version": 3
   },
   "file_extension": ".py",
   "mimetype": "text/x-python",
   "name": "python",
   "nbconvert_exporter": "python",
   "pygments_lexer": "ipython3",
   "version": "3.8.8"
  }
 },
 "nbformat": 4,
 "nbformat_minor": 1
}
